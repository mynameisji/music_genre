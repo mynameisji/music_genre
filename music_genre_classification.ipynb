{
  "nbformat": 4,
  "nbformat_minor": 0,
  "metadata": {
    "colab": {
      "name": "Solo Project4 - Music genre classification - 송지",
      "provenance": [],
      "collapsed_sections": []
    },
    "kernelspec": {
      "name": "python3",
      "display_name": "Python 3"
    }
  },
  "cells": [
    {
      "cell_type": "markdown",
      "metadata": {
        "id": "yLyELGD3RZV4"
      },
      "source": [
        "### 개요\n",
        "\n",
        "코로나 전부터 음악 및 영상 스트리밍 서비스는 지속적으로 성장해왔다.\n",
        "\n",
        "나는 벅스뮤직, 유투브 뮤직 이 두가지의 음원 스트리밍 어플을 사용하는데 여전히 맞춤형 알고리즘이 그닥 잘 작동하는 것 같지 않다고 느낀다.\n",
        "\n",
        "지나치게 같은 아티스트의 음악, 그 아티스트가 피처링한 음악만을 추천하고 그 플레이리스트대로 듣다 보면 금새 질리기도 한다.\n",
        "\n",
        "사용자의 취향을 귀신같이 분석하고, 거기다 새로운 주제를 제시하는 서비스를 만들려면 음악 분류의 정밀함 혹은 세밀함이 선행되어야 한다.\n",
        "\n",
        "사실 공식적인 음원 발매 외에도 'Soundcloud'같은 곳에 엄청나게 다양한 장르의 음악이 있다. 기존의 장르에 끼워맞추기 힘든 음악도 많다.\n",
        "\n",
        "이번 프로젝트에서는 음원 스트리밍 서비스 회사의 데이터 분석가로 일한다고 가정했다.\n",
        "\n",
        "음악 장르를 구분하는 예측 모델을 만들어 새로운 음원 파일을 넣었을 때도 적절히 분류할 수 있도록 할 것이다.\n",
        "\n",
        "---"
      ]
    },
    {
      "cell_type": "markdown",
      "metadata": {
        "id": "qEufl8j6zPt8"
      },
      "source": [
        "'Spotify'에서 제공하는 4만여개의 음원 특성이 담긴 데이터셋을 사용하여, \n",
        "\n",
        "1) Random Forest Classification \n",
        "\n",
        "2) 신경망 모델\n",
        "\n",
        "분류 모델이 얼마나 장르를 잘 구분하는지 '정확도'를 통해 평가할 것이다.\n",
        "\n",
        "본 데이터셋의 label이 될 'genre'는 총 15개인데, 다중 분류모델의 경우 신경망 모델의 성능이 훨씬 좋을 것이라 생각한다. \n"
      ]
    },
    {
      "cell_type": "markdown",
      "metadata": {
        "id": "jRUomTRLmSnH"
      },
      "source": [
        "1.데이터셋 불러오기 : [원본 데이터](https://www.kaggle.com/mrmorj/dataset-of-songs-in-spotify)를 구들드라이브에 업로드 시킨 후 불러와서 사용함"
      ]
    },
    {
      "cell_type": "code",
      "metadata": {
        "colab": {
          "base_uri": "https://localhost:8080/"
        },
        "id": "gEaQb8gxlDp4",
        "outputId": "2f05d3dd-89bb-4fdc-e916-fb94d5deca9c"
      },
      "source": [
        "from google.colab import drive\n",
        "\n",
        "drive.mount('/content/gdrive')"
      ],
      "execution_count": null,
      "outputs": [
        {
          "output_type": "stream",
          "text": [
            "Mounted at /content/gdrive\n"
          ],
          "name": "stdout"
        }
      ]
    },
    {
      "cell_type": "code",
      "metadata": {
        "colab": {
          "base_uri": "https://localhost:8080/",
          "height": 375
        },
        "id": "MObEJJ1plPop",
        "outputId": "3762fef2-4746-4542-afdc-b73f3cefc1ee"
      },
      "source": [
        "import pandas as pd\n",
        "\n",
        "filename = '/content/gdrive/MyDrive/genres_v2.csv'\n",
        "\n",
        "df = pd.read_csv(filename)\n",
        "df.head()"
      ],
      "execution_count": null,
      "outputs": [
        {
          "output_type": "stream",
          "text": [
            "/usr/local/lib/python3.6/dist-packages/IPython/core/interactiveshell.py:2718: DtypeWarning: Columns (19) have mixed types.Specify dtype option on import or set low_memory=False.\n",
            "  interactivity=interactivity, compiler=compiler, result=result)\n"
          ],
          "name": "stderr"
        },
        {
          "output_type": "execute_result",
          "data": {
            "text/html": [
              "<div>\n",
              "<style scoped>\n",
              "    .dataframe tbody tr th:only-of-type {\n",
              "        vertical-align: middle;\n",
              "    }\n",
              "\n",
              "    .dataframe tbody tr th {\n",
              "        vertical-align: top;\n",
              "    }\n",
              "\n",
              "    .dataframe thead th {\n",
              "        text-align: right;\n",
              "    }\n",
              "</style>\n",
              "<table border=\"1\" class=\"dataframe\">\n",
              "  <thead>\n",
              "    <tr style=\"text-align: right;\">\n",
              "      <th></th>\n",
              "      <th>danceability</th>\n",
              "      <th>energy</th>\n",
              "      <th>key</th>\n",
              "      <th>loudness</th>\n",
              "      <th>mode</th>\n",
              "      <th>speechiness</th>\n",
              "      <th>acousticness</th>\n",
              "      <th>instrumentalness</th>\n",
              "      <th>liveness</th>\n",
              "      <th>valence</th>\n",
              "      <th>tempo</th>\n",
              "      <th>type</th>\n",
              "      <th>id</th>\n",
              "      <th>uri</th>\n",
              "      <th>track_href</th>\n",
              "      <th>analysis_url</th>\n",
              "      <th>duration_ms</th>\n",
              "      <th>time_signature</th>\n",
              "      <th>genre</th>\n",
              "      <th>song_name</th>\n",
              "      <th>Unnamed: 0</th>\n",
              "      <th>title</th>\n",
              "    </tr>\n",
              "  </thead>\n",
              "  <tbody>\n",
              "    <tr>\n",
              "      <th>0</th>\n",
              "      <td>0.831</td>\n",
              "      <td>0.814</td>\n",
              "      <td>2</td>\n",
              "      <td>-7.364</td>\n",
              "      <td>1</td>\n",
              "      <td>0.4200</td>\n",
              "      <td>0.0598</td>\n",
              "      <td>0.013400</td>\n",
              "      <td>0.0556</td>\n",
              "      <td>0.3890</td>\n",
              "      <td>156.985</td>\n",
              "      <td>audio_features</td>\n",
              "      <td>2Vc6NJ9PW9gD9q343XFRKx</td>\n",
              "      <td>spotify:track:2Vc6NJ9PW9gD9q343XFRKx</td>\n",
              "      <td>https://api.spotify.com/v1/tracks/2Vc6NJ9PW9gD...</td>\n",
              "      <td>https://api.spotify.com/v1/audio-analysis/2Vc6...</td>\n",
              "      <td>124539</td>\n",
              "      <td>4</td>\n",
              "      <td>Dark Trap</td>\n",
              "      <td>Mercury: Retrograde</td>\n",
              "      <td>NaN</td>\n",
              "      <td>NaN</td>\n",
              "    </tr>\n",
              "    <tr>\n",
              "      <th>1</th>\n",
              "      <td>0.719</td>\n",
              "      <td>0.493</td>\n",
              "      <td>8</td>\n",
              "      <td>-7.230</td>\n",
              "      <td>1</td>\n",
              "      <td>0.0794</td>\n",
              "      <td>0.4010</td>\n",
              "      <td>0.000000</td>\n",
              "      <td>0.1180</td>\n",
              "      <td>0.1240</td>\n",
              "      <td>115.080</td>\n",
              "      <td>audio_features</td>\n",
              "      <td>7pgJBLVz5VmnL7uGHmRj6p</td>\n",
              "      <td>spotify:track:7pgJBLVz5VmnL7uGHmRj6p</td>\n",
              "      <td>https://api.spotify.com/v1/tracks/7pgJBLVz5Vmn...</td>\n",
              "      <td>https://api.spotify.com/v1/audio-analysis/7pgJ...</td>\n",
              "      <td>224427</td>\n",
              "      <td>4</td>\n",
              "      <td>Dark Trap</td>\n",
              "      <td>Pathology</td>\n",
              "      <td>NaN</td>\n",
              "      <td>NaN</td>\n",
              "    </tr>\n",
              "    <tr>\n",
              "      <th>2</th>\n",
              "      <td>0.850</td>\n",
              "      <td>0.893</td>\n",
              "      <td>5</td>\n",
              "      <td>-4.783</td>\n",
              "      <td>1</td>\n",
              "      <td>0.0623</td>\n",
              "      <td>0.0138</td>\n",
              "      <td>0.000004</td>\n",
              "      <td>0.3720</td>\n",
              "      <td>0.0391</td>\n",
              "      <td>218.050</td>\n",
              "      <td>audio_features</td>\n",
              "      <td>0vSWgAlfpye0WCGeNmuNhy</td>\n",
              "      <td>spotify:track:0vSWgAlfpye0WCGeNmuNhy</td>\n",
              "      <td>https://api.spotify.com/v1/tracks/0vSWgAlfpye0...</td>\n",
              "      <td>https://api.spotify.com/v1/audio-analysis/0vSW...</td>\n",
              "      <td>98821</td>\n",
              "      <td>4</td>\n",
              "      <td>Dark Trap</td>\n",
              "      <td>Symbiote</td>\n",
              "      <td>NaN</td>\n",
              "      <td>NaN</td>\n",
              "    </tr>\n",
              "    <tr>\n",
              "      <th>3</th>\n",
              "      <td>0.476</td>\n",
              "      <td>0.781</td>\n",
              "      <td>0</td>\n",
              "      <td>-4.710</td>\n",
              "      <td>1</td>\n",
              "      <td>0.1030</td>\n",
              "      <td>0.0237</td>\n",
              "      <td>0.000000</td>\n",
              "      <td>0.1140</td>\n",
              "      <td>0.1750</td>\n",
              "      <td>186.948</td>\n",
              "      <td>audio_features</td>\n",
              "      <td>0VSXnJqQkwuH2ei1nOQ1nu</td>\n",
              "      <td>spotify:track:0VSXnJqQkwuH2ei1nOQ1nu</td>\n",
              "      <td>https://api.spotify.com/v1/tracks/0VSXnJqQkwuH...</td>\n",
              "      <td>https://api.spotify.com/v1/audio-analysis/0VSX...</td>\n",
              "      <td>123661</td>\n",
              "      <td>3</td>\n",
              "      <td>Dark Trap</td>\n",
              "      <td>ProductOfDrugs (Prod. The Virus and Antidote)</td>\n",
              "      <td>NaN</td>\n",
              "      <td>NaN</td>\n",
              "    </tr>\n",
              "    <tr>\n",
              "      <th>4</th>\n",
              "      <td>0.798</td>\n",
              "      <td>0.624</td>\n",
              "      <td>2</td>\n",
              "      <td>-7.668</td>\n",
              "      <td>1</td>\n",
              "      <td>0.2930</td>\n",
              "      <td>0.2170</td>\n",
              "      <td>0.000000</td>\n",
              "      <td>0.1660</td>\n",
              "      <td>0.5910</td>\n",
              "      <td>147.988</td>\n",
              "      <td>audio_features</td>\n",
              "      <td>4jCeguq9rMTlbMmPHuO7S3</td>\n",
              "      <td>spotify:track:4jCeguq9rMTlbMmPHuO7S3</td>\n",
              "      <td>https://api.spotify.com/v1/tracks/4jCeguq9rMTl...</td>\n",
              "      <td>https://api.spotify.com/v1/audio-analysis/4jCe...</td>\n",
              "      <td>123298</td>\n",
              "      <td>4</td>\n",
              "      <td>Dark Trap</td>\n",
              "      <td>Venom</td>\n",
              "      <td>NaN</td>\n",
              "      <td>NaN</td>\n",
              "    </tr>\n",
              "  </tbody>\n",
              "</table>\n",
              "</div>"
            ],
            "text/plain": [
              "   danceability  energy  ...  Unnamed: 0  title\n",
              "0         0.831   0.814  ...         NaN    NaN\n",
              "1         0.719   0.493  ...         NaN    NaN\n",
              "2         0.850   0.893  ...         NaN    NaN\n",
              "3         0.476   0.781  ...         NaN    NaN\n",
              "4         0.798   0.624  ...         NaN    NaN\n",
              "\n",
              "[5 rows x 22 columns]"
            ]
          },
          "metadata": {
            "tags": []
          },
          "execution_count": 3
        }
      ]
    },
    {
      "cell_type": "code",
      "metadata": {
        "colab": {
          "base_uri": "https://localhost:8080/"
        },
        "id": "wcbgPMYwQZuM",
        "outputId": "72e39abb-de45-469c-89d3-3002e99ff600"
      },
      "source": [
        "#42,305개의 음악의 음원 정보를 담고 있다. \n",
        "df.shape"
      ],
      "execution_count": null,
      "outputs": [
        {
          "output_type": "execute_result",
          "data": {
            "text/plain": [
              "(42305, 22)"
            ]
          },
          "metadata": {
            "tags": []
          },
          "execution_count": 7
        }
      ]
    },
    {
      "cell_type": "markdown",
      "metadata": {
        "id": "GBD0xjRK1CeC"
      },
      "source": [
        "2.데이터 탐색 및 전처리"
      ]
    },
    {
      "cell_type": "markdown",
      "metadata": {
        "id": "yp402gIF1psg"
      },
      "source": [
        "<데이터셋 요소 설명>\n",
        "\n",
        "**danceability** : 춤추기에 적합한 음악인지 판단. 템포, 리듬 안정성, 비트 강도 등이 전체적으로 일정한지 조합하여 정해진다.\n",
        "\n",
        "**energy** : 에너지가 클수록 빠르고 크고 시끄러운 음악이다. ex) 헤비메탈은 에너지가 높고, 모차르트의 자장가는 에너지가 낮다.\n",
        "\n",
        "**key** : 트랙의 전체 예상 키. 예시:0 = C, 1 = C♯ / D ♭, 2 = D. 키가 감지되지 않는 경우는 -1\n",
        "\n",
        "**loudness** : 값이 클수록 소리(데시벨)가 큰 음악이다.\n",
        "\n",
        "**mode** : 음원의 음계 정보. 장조(Major)는 1, 단조(Minor)는 2\n",
        "\n",
        "**speechiness** : 값이 클수록 노래에 말이 많이 나온다. 트랙에 음성이 포함되어 있는지 여부를 측정. \n",
        "\n",
        "**acousticness** : 노래가 어쿠스틱한 정도 (어쿠스틱한 소리는 전자음이 섞이지 않은 생악기 소리)\n",
        "\n",
        "**instrumentalness** : 트랙에 보컬이 *없는지* 여부 예측. 랩도 보컬에 포함된다. 1.0에 가까울수록 트랙에 보컬 콘텐츠가 포함되지 않을 가능성이 큼.\n",
        "\n",
        "**liveness** : 값이 클수록 (스튜디오 녹음이 아닌) 실황 녹음일 확률이 높다.\n",
        "\n",
        "**valence** : 밝고 긍정적인 느낌의 정도\n",
        "\n",
        "**tempo** : 트랙의 전체 예상 템포. 음악의 속도를 나타낸다. 평균 비트 지속 시간을 기준으로 판단함.\n",
        "\n",
        "**duration_ms** : 밀리초 단위의 트랙 길이.\n",
        "\n",
        "**time_signature** : 트랙의 전체 예상 박자표. 각 마디별 비트수 지정.\n",
        "\n",
        "출처 : [Spotify 개발자 사이트](https://developer.spotify.com/documentation/web-api/reference/tracks/get-audio-features/)\n"
      ]
    },
    {
      "cell_type": "code",
      "metadata": {
        "colab": {
          "base_uri": "https://localhost:8080/"
        },
        "id": "sV22vP1rQIBW",
        "outputId": "05b07f18-892f-4cb3-e4e5-e42f68526c47"
      },
      "source": [
        "#label 정보 확인하기 => genre\n",
        "print('genre 개수 :', len(df['genre'].unique()))\n",
        "print(df['genre'].unique())"
      ],
      "execution_count": null,
      "outputs": [
        {
          "output_type": "stream",
          "text": [
            "genre 개수 : 15\n",
            "['Dark Trap' 'Underground Rap' 'Trap Metal' 'Emo' 'Rap' 'RnB' 'Pop'\n",
            " 'Hiphop' 'techhouse' 'techno' 'trance' 'psytrance' 'trap' 'dnb'\n",
            " 'hardstyle']\n"
          ],
          "name": "stdout"
        }
      ]
    },
    {
      "cell_type": "markdown",
      "metadata": {
        "id": "bekXojP94-OC"
      },
      "source": [
        "- 음원 특성 정보로 장르를 구분 및 예측하는 모델을 만드는 것이 목적임으로 음악적 특성에 해당하지 않는 정보는 제거할 것이다.\n",
        "\n",
        " -> 'id',\t'uri','track_href',\t'analysis_url', 'song_name', 'Unnamed: 0', 'title', 'type'\n",
        "\n",
        "- 'duration_ms'는 노래 길이를 밀리초 단위로 나타낸 값인데, 대부분의 대중 음악장르가 3~5분 남짓인걸 감안하면 genre와 음악 길이 사이의 연관성은 크게 없을 듯 하다.\n",
        "\n",
        "- 'time_signature'는 클래스가 1,3,4,5 네개 밖에 안되는데, 95% 이상의 음원이 4에 포함된다. 한마디로 4분의 몇 박자인 음악이 대부분이란 소리다. \n"
      ]
    },
    {
      "cell_type": "code",
      "metadata": {
        "colab": {
          "base_uri": "https://localhost:8080/"
        },
        "id": "Xl1AIC5gS5uz",
        "outputId": "a66f4f13-44c3-4327-a7dc-a0dc19a9058a"
      },
      "source": [
        "df.columns"
      ],
      "execution_count": null,
      "outputs": [
        {
          "output_type": "execute_result",
          "data": {
            "text/plain": [
              "Index(['danceability', 'energy', 'key', 'loudness', 'mode', 'speechiness',\n",
              "       'acousticness', 'instrumentalness', 'liveness', 'valence', 'tempo',\n",
              "       'type', 'id', 'uri', 'track_href', 'analysis_url', 'duration_ms',\n",
              "       'time_signature', 'genre', 'song_name', 'Unnamed: 0', 'title'],\n",
              "      dtype='object')"
            ]
          },
          "metadata": {
            "tags": []
          },
          "execution_count": 9
        }
      ]
    },
    {
      "cell_type": "code",
      "metadata": {
        "colab": {
          "base_uri": "https://localhost:8080/"
        },
        "id": "tMEVAYCf7d9d",
        "outputId": "461fa596-9335-462b-916e-0ceab6f7cf10"
      },
      "source": [
        "df['duration_ms'].value_counts()"
      ],
      "execution_count": null,
      "outputs": [
        {
          "output_type": "execute_result",
          "data": {
            "text/plain": [
              "192000    104\n",
              "240000     87\n",
              "224000     65\n",
              "230400     56\n",
              "211200     56\n",
              "         ... \n",
              "353375      1\n",
              "236640      1\n",
              "431201      1\n",
              "164963      1\n",
              "458752      1\n",
              "Name: duration_ms, Length: 26261, dtype: int64"
            ]
          },
          "metadata": {
            "tags": []
          },
          "execution_count": 10
        }
      ]
    },
    {
      "cell_type": "code",
      "metadata": {
        "colab": {
          "base_uri": "https://localhost:8080/"
        },
        "id": "De2TAJqx65CN",
        "outputId": "36723646-c059-4a26-eb70-e4a6f052944f"
      },
      "source": [
        "df['time_signature'].value_counts(normalize=True)"
      ],
      "execution_count": null,
      "outputs": [
        {
          "output_type": "execute_result",
          "data": {
            "text/plain": [
              "4    0.955608\n",
              "3    0.028815\n",
              "5    0.012032\n",
              "1    0.003546\n",
              "Name: time_signature, dtype: float64"
            ]
          },
          "metadata": {
            "tags": []
          },
          "execution_count": 11
        }
      ]
    },
    {
      "cell_type": "code",
      "metadata": {
        "colab": {
          "base_uri": "https://localhost:8080/"
        },
        "id": "gGQOkQVLUTDK",
        "outputId": "e8c9166f-7364-45e6-9fca-fb98c01ce12d"
      },
      "source": [
        "#특성들 중 일부 삭제\n",
        "df = df.drop(['id', 'uri','track_href', 'analysis_url', 'song_name', 'Unnamed: 0', \n",
        "              'title', 'type', 'duration_ms', 'time_signature'], axis='columns')\n",
        "df.shape"
      ],
      "execution_count": null,
      "outputs": [
        {
          "output_type": "execute_result",
          "data": {
            "text/plain": [
              "(42305, 12)"
            ]
          },
          "metadata": {
            "tags": []
          },
          "execution_count": 12
        }
      ]
    },
    {
      "cell_type": "code",
      "metadata": {
        "id": "YJk3nkvJYmat"
      },
      "source": [
        "# mode : 장조는 1, 단조는 0. 음계가 장조라고 밝기만 한 것도 아니며, 단조라고 어두운 느낌도 아니다. \n",
        "# 음악 장르를 나눌 때 '어두운 느낌, 밝은 느낌'으로 구별짓지 않는다. mode는 genre를 예측하는데 크게 기여할 것 같지 않다. 그러므로 삭제하는게 좋겠다."
      ],
      "execution_count": null,
      "outputs": []
    },
    {
      "cell_type": "code",
      "metadata": {
        "colab": {
          "base_uri": "https://localhost:8080/",
          "height": 200
        },
        "id": "9ooDskKU8Mzy",
        "outputId": "e720e32d-d29c-4a2f-87ea-6f2e9ac0a2e4"
      },
      "source": [
        "df = df.drop(['mode'], axis='columns')\n",
        "df.head()"
      ],
      "execution_count": null,
      "outputs": [
        {
          "output_type": "execute_result",
          "data": {
            "text/html": [
              "<div>\n",
              "<style scoped>\n",
              "    .dataframe tbody tr th:only-of-type {\n",
              "        vertical-align: middle;\n",
              "    }\n",
              "\n",
              "    .dataframe tbody tr th {\n",
              "        vertical-align: top;\n",
              "    }\n",
              "\n",
              "    .dataframe thead th {\n",
              "        text-align: right;\n",
              "    }\n",
              "</style>\n",
              "<table border=\"1\" class=\"dataframe\">\n",
              "  <thead>\n",
              "    <tr style=\"text-align: right;\">\n",
              "      <th></th>\n",
              "      <th>danceability</th>\n",
              "      <th>energy</th>\n",
              "      <th>key</th>\n",
              "      <th>loudness</th>\n",
              "      <th>speechiness</th>\n",
              "      <th>acousticness</th>\n",
              "      <th>instrumentalness</th>\n",
              "      <th>liveness</th>\n",
              "      <th>valence</th>\n",
              "      <th>tempo</th>\n",
              "      <th>genre</th>\n",
              "    </tr>\n",
              "  </thead>\n",
              "  <tbody>\n",
              "    <tr>\n",
              "      <th>0</th>\n",
              "      <td>0.831</td>\n",
              "      <td>0.814</td>\n",
              "      <td>2</td>\n",
              "      <td>-7.364</td>\n",
              "      <td>0.4200</td>\n",
              "      <td>0.0598</td>\n",
              "      <td>0.013400</td>\n",
              "      <td>0.0556</td>\n",
              "      <td>0.3890</td>\n",
              "      <td>156.985</td>\n",
              "      <td>Dark Trap</td>\n",
              "    </tr>\n",
              "    <tr>\n",
              "      <th>1</th>\n",
              "      <td>0.719</td>\n",
              "      <td>0.493</td>\n",
              "      <td>8</td>\n",
              "      <td>-7.230</td>\n",
              "      <td>0.0794</td>\n",
              "      <td>0.4010</td>\n",
              "      <td>0.000000</td>\n",
              "      <td>0.1180</td>\n",
              "      <td>0.1240</td>\n",
              "      <td>115.080</td>\n",
              "      <td>Dark Trap</td>\n",
              "    </tr>\n",
              "    <tr>\n",
              "      <th>2</th>\n",
              "      <td>0.850</td>\n",
              "      <td>0.893</td>\n",
              "      <td>5</td>\n",
              "      <td>-4.783</td>\n",
              "      <td>0.0623</td>\n",
              "      <td>0.0138</td>\n",
              "      <td>0.000004</td>\n",
              "      <td>0.3720</td>\n",
              "      <td>0.0391</td>\n",
              "      <td>218.050</td>\n",
              "      <td>Dark Trap</td>\n",
              "    </tr>\n",
              "    <tr>\n",
              "      <th>3</th>\n",
              "      <td>0.476</td>\n",
              "      <td>0.781</td>\n",
              "      <td>0</td>\n",
              "      <td>-4.710</td>\n",
              "      <td>0.1030</td>\n",
              "      <td>0.0237</td>\n",
              "      <td>0.000000</td>\n",
              "      <td>0.1140</td>\n",
              "      <td>0.1750</td>\n",
              "      <td>186.948</td>\n",
              "      <td>Dark Trap</td>\n",
              "    </tr>\n",
              "    <tr>\n",
              "      <th>4</th>\n",
              "      <td>0.798</td>\n",
              "      <td>0.624</td>\n",
              "      <td>2</td>\n",
              "      <td>-7.668</td>\n",
              "      <td>0.2930</td>\n",
              "      <td>0.2170</td>\n",
              "      <td>0.000000</td>\n",
              "      <td>0.1660</td>\n",
              "      <td>0.5910</td>\n",
              "      <td>147.988</td>\n",
              "      <td>Dark Trap</td>\n",
              "    </tr>\n",
              "  </tbody>\n",
              "</table>\n",
              "</div>"
            ],
            "text/plain": [
              "   danceability  energy  key  loudness  ...  liveness  valence    tempo      genre\n",
              "0         0.831   0.814    2    -7.364  ...    0.0556   0.3890  156.985  Dark Trap\n",
              "1         0.719   0.493    8    -7.230  ...    0.1180   0.1240  115.080  Dark Trap\n",
              "2         0.850   0.893    5    -4.783  ...    0.3720   0.0391  218.050  Dark Trap\n",
              "3         0.476   0.781    0    -4.710  ...    0.1140   0.1750  186.948  Dark Trap\n",
              "4         0.798   0.624    2    -7.668  ...    0.1660   0.5910  147.988  Dark Trap\n",
              "\n",
              "[5 rows x 11 columns]"
            ]
          },
          "metadata": {
            "tags": []
          },
          "execution_count": 16
        }
      ]
    },
    {
      "cell_type": "code",
      "metadata": {
        "colab": {
          "base_uri": "https://localhost:8080/"
        },
        "id": "pCc5nT6jC7Rj",
        "outputId": "d4ed140d-7527-4b5a-df85-6396c372aed4"
      },
      "source": [
        "df['genre'].value_counts(normalize=True)"
      ],
      "execution_count": null,
      "outputs": [
        {
          "output_type": "execute_result",
          "data": {
            "text/plain": [
              "Underground Rap    0.138872\n",
              "Dark Trap          0.108214\n",
              "Hiphop             0.071575\n",
              "trance             0.070890\n",
              "trap               0.070606\n",
              "techhouse          0.070323\n",
              "dnb                0.070110\n",
              "psytrance          0.069992\n",
              "techno             0.069874\n",
              "hardstyle          0.069401\n",
              "RnB                0.049616\n",
              "Trap Metal         0.046236\n",
              "Rap                0.043683\n",
              "Emo                0.039712\n",
              "Pop                0.010897\n",
              "Name: genre, dtype: float64"
            ]
          },
          "metadata": {
            "tags": []
          },
          "execution_count": 18
        }
      ]
    },
    {
      "cell_type": "code",
      "metadata": {
        "colab": {
          "base_uri": "https://localhost:8080/",
          "height": 291
        },
        "id": "L6AS4OnzfPCW",
        "outputId": "1acdb4a8-d222-4d87-8a45-9a4512e55440"
      },
      "source": [
        "#특성들의 통계정보를 확인해보니, 각 수치의 표기 범위가 달라서 모델 돌리기 전에 정규화를 진행해야 할 것 같다.\n",
        "df.describe()"
      ],
      "execution_count": null,
      "outputs": [
        {
          "output_type": "execute_result",
          "data": {
            "text/html": [
              "<div>\n",
              "<style scoped>\n",
              "    .dataframe tbody tr th:only-of-type {\n",
              "        vertical-align: middle;\n",
              "    }\n",
              "\n",
              "    .dataframe tbody tr th {\n",
              "        vertical-align: top;\n",
              "    }\n",
              "\n",
              "    .dataframe thead th {\n",
              "        text-align: right;\n",
              "    }\n",
              "</style>\n",
              "<table border=\"1\" class=\"dataframe\">\n",
              "  <thead>\n",
              "    <tr style=\"text-align: right;\">\n",
              "      <th></th>\n",
              "      <th>danceability</th>\n",
              "      <th>energy</th>\n",
              "      <th>key</th>\n",
              "      <th>loudness</th>\n",
              "      <th>speechiness</th>\n",
              "      <th>acousticness</th>\n",
              "      <th>instrumentalness</th>\n",
              "      <th>liveness</th>\n",
              "      <th>valence</th>\n",
              "      <th>tempo</th>\n",
              "    </tr>\n",
              "  </thead>\n",
              "  <tbody>\n",
              "    <tr>\n",
              "      <th>count</th>\n",
              "      <td>42305.000000</td>\n",
              "      <td>42305.000000</td>\n",
              "      <td>42305.000000</td>\n",
              "      <td>42305.000000</td>\n",
              "      <td>42305.000000</td>\n",
              "      <td>42305.000000</td>\n",
              "      <td>42305.000000</td>\n",
              "      <td>42305.000000</td>\n",
              "      <td>42305.000000</td>\n",
              "      <td>42305.000000</td>\n",
              "    </tr>\n",
              "    <tr>\n",
              "      <th>mean</th>\n",
              "      <td>0.639364</td>\n",
              "      <td>0.762516</td>\n",
              "      <td>5.370240</td>\n",
              "      <td>-6.465442</td>\n",
              "      <td>0.136561</td>\n",
              "      <td>0.096160</td>\n",
              "      <td>0.283048</td>\n",
              "      <td>0.214079</td>\n",
              "      <td>0.357101</td>\n",
              "      <td>147.474056</td>\n",
              "    </tr>\n",
              "    <tr>\n",
              "      <th>std</th>\n",
              "      <td>0.156617</td>\n",
              "      <td>0.183823</td>\n",
              "      <td>3.666145</td>\n",
              "      <td>2.941165</td>\n",
              "      <td>0.126168</td>\n",
              "      <td>0.170827</td>\n",
              "      <td>0.370791</td>\n",
              "      <td>0.175576</td>\n",
              "      <td>0.233200</td>\n",
              "      <td>23.844623</td>\n",
              "    </tr>\n",
              "    <tr>\n",
              "      <th>min</th>\n",
              "      <td>0.065100</td>\n",
              "      <td>0.000243</td>\n",
              "      <td>0.000000</td>\n",
              "      <td>-33.357000</td>\n",
              "      <td>0.022700</td>\n",
              "      <td>0.000001</td>\n",
              "      <td>0.000000</td>\n",
              "      <td>0.010700</td>\n",
              "      <td>0.018700</td>\n",
              "      <td>57.967000</td>\n",
              "    </tr>\n",
              "    <tr>\n",
              "      <th>25%</th>\n",
              "      <td>0.524000</td>\n",
              "      <td>0.632000</td>\n",
              "      <td>1.000000</td>\n",
              "      <td>-8.161000</td>\n",
              "      <td>0.049100</td>\n",
              "      <td>0.001730</td>\n",
              "      <td>0.000000</td>\n",
              "      <td>0.099600</td>\n",
              "      <td>0.161000</td>\n",
              "      <td>129.931000</td>\n",
              "    </tr>\n",
              "    <tr>\n",
              "      <th>50%</th>\n",
              "      <td>0.646000</td>\n",
              "      <td>0.803000</td>\n",
              "      <td>6.000000</td>\n",
              "      <td>-6.234000</td>\n",
              "      <td>0.075500</td>\n",
              "      <td>0.016400</td>\n",
              "      <td>0.005940</td>\n",
              "      <td>0.135000</td>\n",
              "      <td>0.322000</td>\n",
              "      <td>144.973000</td>\n",
              "    </tr>\n",
              "    <tr>\n",
              "      <th>75%</th>\n",
              "      <td>0.766000</td>\n",
              "      <td>0.923000</td>\n",
              "      <td>9.000000</td>\n",
              "      <td>-4.513000</td>\n",
              "      <td>0.193000</td>\n",
              "      <td>0.107000</td>\n",
              "      <td>0.722000</td>\n",
              "      <td>0.294000</td>\n",
              "      <td>0.522000</td>\n",
              "      <td>161.464000</td>\n",
              "    </tr>\n",
              "    <tr>\n",
              "      <th>max</th>\n",
              "      <td>0.988000</td>\n",
              "      <td>1.000000</td>\n",
              "      <td>11.000000</td>\n",
              "      <td>3.148000</td>\n",
              "      <td>0.946000</td>\n",
              "      <td>0.988000</td>\n",
              "      <td>0.989000</td>\n",
              "      <td>0.988000</td>\n",
              "      <td>0.988000</td>\n",
              "      <td>220.290000</td>\n",
              "    </tr>\n",
              "  </tbody>\n",
              "</table>\n",
              "</div>"
            ],
            "text/plain": [
              "       danceability        energy  ...       valence         tempo\n",
              "count  42305.000000  42305.000000  ...  42305.000000  42305.000000\n",
              "mean       0.639364      0.762516  ...      0.357101    147.474056\n",
              "std        0.156617      0.183823  ...      0.233200     23.844623\n",
              "min        0.065100      0.000243  ...      0.018700     57.967000\n",
              "25%        0.524000      0.632000  ...      0.161000    129.931000\n",
              "50%        0.646000      0.803000  ...      0.322000    144.973000\n",
              "75%        0.766000      0.923000  ...      0.522000    161.464000\n",
              "max        0.988000      1.000000  ...      0.988000    220.290000\n",
              "\n",
              "[8 rows x 10 columns]"
            ]
          },
          "metadata": {
            "tags": []
          },
          "execution_count": 34
        }
      ]
    },
    {
      "cell_type": "code",
      "metadata": {
        "colab": {
          "base_uri": "https://localhost:8080/"
        },
        "id": "-0PG8P4pfSKz",
        "outputId": "5ce0490f-2d31-4c28-f0de-c29bc809a600"
      },
      "source": [
        "print(df.dtypes)"
      ],
      "execution_count": null,
      "outputs": [
        {
          "output_type": "stream",
          "text": [
            "danceability        float64\n",
            "energy              float64\n",
            "key                   int64\n",
            "loudness            float64\n",
            "speechiness         float64\n",
            "acousticness        float64\n",
            "instrumentalness    float64\n",
            "liveness            float64\n",
            "valence             float64\n",
            "tempo               float64\n",
            "genre                object\n",
            "dtype: object\n"
          ],
          "name": "stdout"
        }
      ]
    },
    {
      "cell_type": "code",
      "metadata": {
        "id": "rdnQQuGQfYbN"
      },
      "source": [
        "# 'key' -> 데이터 타입 float으로 바꾸기\n",
        "df['key'] = df['key'].astype(float)"
      ],
      "execution_count": null,
      "outputs": []
    },
    {
      "cell_type": "code",
      "metadata": {
        "colab": {
          "base_uri": "https://localhost:8080/"
        },
        "id": "MYvTnHjMfhMz",
        "outputId": "e9bf03f5-850d-47b7-cb42-9a32c026c402"
      },
      "source": [
        "print(df.dtypes)"
      ],
      "execution_count": null,
      "outputs": [
        {
          "output_type": "stream",
          "text": [
            "danceability        float64\n",
            "energy              float64\n",
            "key                 float64\n",
            "loudness            float64\n",
            "speechiness         float64\n",
            "acousticness        float64\n",
            "instrumentalness    float64\n",
            "liveness            float64\n",
            "valence             float64\n",
            "tempo               float64\n",
            "genre                object\n",
            "dtype: object\n"
          ],
          "name": "stdout"
        }
      ]
    },
    {
      "cell_type": "code",
      "metadata": {
        "colab": {
          "base_uri": "https://localhost:8080/"
        },
        "id": "3ydWPtS784Wj",
        "outputId": "d58a01a8-7e27-4266-c017-2ec0797aa6a7"
      },
      "source": [
        "df['genre'].unique()"
      ],
      "execution_count": null,
      "outputs": [
        {
          "output_type": "execute_result",
          "data": {
            "text/plain": [
              "array(['Dark Trap', 'Underground Rap', 'Trap Metal', 'Emo', 'Rap', 'RnB',\n",
              "       'Pop', 'Hiphop', 'techhouse', 'techno', 'trance', 'psytrance',\n",
              "       'trap', 'dnb', 'hardstyle'], dtype=object)"
            ]
          },
          "metadata": {
            "tags": []
          },
          "execution_count": 38
        }
      ]
    },
    {
      "cell_type": "code",
      "metadata": {
        "id": "GJ4oPPt6xvV0"
      },
      "source": [
        "#label인 'genre'를 숫자형으로 변환하기.\n",
        "df['genre'] = df['genre'].replace(['Dark Trap', 'Underground Rap', 'Trap Metal', 'Emo', 'Rap', 'RnB',\n",
        "       'Pop', 'Hiphop', 'techhouse', 'techno', 'trance', 'psytrance',\n",
        "       'trap', 'dnb', 'hardstyle'],[0,1,2,3,4,5,6,7,8,9,10,11,12,13,14])"
      ],
      "execution_count": null,
      "outputs": []
    },
    {
      "cell_type": "code",
      "metadata": {
        "colab": {
          "base_uri": "https://localhost:8080/",
          "height": 352
        },
        "id": "uk0d-RKLyDMQ",
        "outputId": "16ba70af-0e67-41e7-ffb3-40981154d295"
      },
      "source": [
        "df.sample(10)"
      ],
      "execution_count": null,
      "outputs": [
        {
          "output_type": "execute_result",
          "data": {
            "text/html": [
              "<div>\n",
              "<style scoped>\n",
              "    .dataframe tbody tr th:only-of-type {\n",
              "        vertical-align: middle;\n",
              "    }\n",
              "\n",
              "    .dataframe tbody tr th {\n",
              "        vertical-align: top;\n",
              "    }\n",
              "\n",
              "    .dataframe thead th {\n",
              "        text-align: right;\n",
              "    }\n",
              "</style>\n",
              "<table border=\"1\" class=\"dataframe\">\n",
              "  <thead>\n",
              "    <tr style=\"text-align: right;\">\n",
              "      <th></th>\n",
              "      <th>danceability</th>\n",
              "      <th>energy</th>\n",
              "      <th>key</th>\n",
              "      <th>loudness</th>\n",
              "      <th>speechiness</th>\n",
              "      <th>acousticness</th>\n",
              "      <th>instrumentalness</th>\n",
              "      <th>liveness</th>\n",
              "      <th>valence</th>\n",
              "      <th>tempo</th>\n",
              "      <th>genre</th>\n",
              "    </tr>\n",
              "  </thead>\n",
              "  <tbody>\n",
              "    <tr>\n",
              "      <th>40132</th>\n",
              "      <td>0.455</td>\n",
              "      <td>0.834</td>\n",
              "      <td>1.0</td>\n",
              "      <td>-3.408</td>\n",
              "      <td>0.0329</td>\n",
              "      <td>0.11600</td>\n",
              "      <td>0.000127</td>\n",
              "      <td>0.7050</td>\n",
              "      <td>0.3700</td>\n",
              "      <td>148.043</td>\n",
              "      <td>14</td>\n",
              "    </tr>\n",
              "    <tr>\n",
              "      <th>37198</th>\n",
              "      <td>0.461</td>\n",
              "      <td>0.973</td>\n",
              "      <td>7.0</td>\n",
              "      <td>-3.012</td>\n",
              "      <td>0.1380</td>\n",
              "      <td>0.00897</td>\n",
              "      <td>0.725000</td>\n",
              "      <td>0.1120</td>\n",
              "      <td>0.0471</td>\n",
              "      <td>172.034</td>\n",
              "      <td>13</td>\n",
              "    </tr>\n",
              "    <tr>\n",
              "      <th>1691</th>\n",
              "      <td>0.570</td>\n",
              "      <td>0.450</td>\n",
              "      <td>6.0</td>\n",
              "      <td>-10.772</td>\n",
              "      <td>0.0676</td>\n",
              "      <td>0.66600</td>\n",
              "      <td>0.059600</td>\n",
              "      <td>0.1580</td>\n",
              "      <td>0.0395</td>\n",
              "      <td>155.081</td>\n",
              "      <td>0</td>\n",
              "    </tr>\n",
              "    <tr>\n",
              "      <th>23970</th>\n",
              "      <td>0.776</td>\n",
              "      <td>0.963</td>\n",
              "      <td>1.0</td>\n",
              "      <td>-4.627</td>\n",
              "      <td>0.0450</td>\n",
              "      <td>0.02540</td>\n",
              "      <td>0.870000</td>\n",
              "      <td>0.0808</td>\n",
              "      <td>0.5690</td>\n",
              "      <td>125.006</td>\n",
              "      <td>8</td>\n",
              "    </tr>\n",
              "    <tr>\n",
              "      <th>5434</th>\n",
              "      <td>0.883</td>\n",
              "      <td>0.483</td>\n",
              "      <td>11.0</td>\n",
              "      <td>-8.728</td>\n",
              "      <td>0.3290</td>\n",
              "      <td>0.00688</td>\n",
              "      <td>0.000005</td>\n",
              "      <td>0.0929</td>\n",
              "      <td>0.4010</td>\n",
              "      <td>163.998</td>\n",
              "      <td>1</td>\n",
              "    </tr>\n",
              "    <tr>\n",
              "      <th>7508</th>\n",
              "      <td>0.905</td>\n",
              "      <td>0.810</td>\n",
              "      <td>7.0</td>\n",
              "      <td>-4.538</td>\n",
              "      <td>0.2110</td>\n",
              "      <td>0.03490</td>\n",
              "      <td>0.000013</td>\n",
              "      <td>0.1240</td>\n",
              "      <td>0.4860</td>\n",
              "      <td>192.882</td>\n",
              "      <td>1</td>\n",
              "    </tr>\n",
              "    <tr>\n",
              "      <th>5975</th>\n",
              "      <td>0.803</td>\n",
              "      <td>0.534</td>\n",
              "      <td>11.0</td>\n",
              "      <td>-7.582</td>\n",
              "      <td>0.1860</td>\n",
              "      <td>0.04670</td>\n",
              "      <td>0.000000</td>\n",
              "      <td>0.1340</td>\n",
              "      <td>0.3310</td>\n",
              "      <td>117.930</td>\n",
              "      <td>1</td>\n",
              "    </tr>\n",
              "    <tr>\n",
              "      <th>308</th>\n",
              "      <td>0.741</td>\n",
              "      <td>0.479</td>\n",
              "      <td>1.0</td>\n",
              "      <td>-5.899</td>\n",
              "      <td>0.3020</td>\n",
              "      <td>0.05440</td>\n",
              "      <td>0.000000</td>\n",
              "      <td>0.2310</td>\n",
              "      <td>0.0971</td>\n",
              "      <td>162.020</td>\n",
              "      <td>0</td>\n",
              "    </tr>\n",
              "    <tr>\n",
              "      <th>32494</th>\n",
              "      <td>0.589</td>\n",
              "      <td>0.964</td>\n",
              "      <td>9.0</td>\n",
              "      <td>-5.994</td>\n",
              "      <td>0.0463</td>\n",
              "      <td>0.00003</td>\n",
              "      <td>0.825000</td>\n",
              "      <td>0.4070</td>\n",
              "      <td>0.4240</td>\n",
              "      <td>148.030</td>\n",
              "      <td>11</td>\n",
              "    </tr>\n",
              "    <tr>\n",
              "      <th>4433</th>\n",
              "      <td>0.594</td>\n",
              "      <td>0.741</td>\n",
              "      <td>7.0</td>\n",
              "      <td>-6.229</td>\n",
              "      <td>0.0244</td>\n",
              "      <td>0.07540</td>\n",
              "      <td>0.627000</td>\n",
              "      <td>0.1460</td>\n",
              "      <td>0.1740</td>\n",
              "      <td>200.004</td>\n",
              "      <td>0</td>\n",
              "    </tr>\n",
              "  </tbody>\n",
              "</table>\n",
              "</div>"
            ],
            "text/plain": [
              "       danceability  energy   key  loudness  ...  liveness  valence    tempo  genre\n",
              "40132         0.455   0.834   1.0    -3.408  ...    0.7050   0.3700  148.043     14\n",
              "37198         0.461   0.973   7.0    -3.012  ...    0.1120   0.0471  172.034     13\n",
              "1691          0.570   0.450   6.0   -10.772  ...    0.1580   0.0395  155.081      0\n",
              "23970         0.776   0.963   1.0    -4.627  ...    0.0808   0.5690  125.006      8\n",
              "5434          0.883   0.483  11.0    -8.728  ...    0.0929   0.4010  163.998      1\n",
              "7508          0.905   0.810   7.0    -4.538  ...    0.1240   0.4860  192.882      1\n",
              "5975          0.803   0.534  11.0    -7.582  ...    0.1340   0.3310  117.930      1\n",
              "308           0.741   0.479   1.0    -5.899  ...    0.2310   0.0971  162.020      0\n",
              "32494         0.589   0.964   9.0    -5.994  ...    0.4070   0.4240  148.030     11\n",
              "4433          0.594   0.741   7.0    -6.229  ...    0.1460   0.1740  200.004      0\n",
              "\n",
              "[10 rows x 11 columns]"
            ]
          },
          "metadata": {
            "tags": []
          },
          "execution_count": 40
        }
      ]
    },
    {
      "cell_type": "code",
      "metadata": {
        "colab": {
          "base_uri": "https://localhost:8080/"
        },
        "id": "4tzS9nqvBNu8",
        "outputId": "c3f3b7e1-4b31-4f0c-a23d-b932f641b1b4"
      },
      "source": [
        "#null값 없음\n",
        "df.isnull().sum()"
      ],
      "execution_count": null,
      "outputs": [
        {
          "output_type": "execute_result",
          "data": {
            "text/plain": [
              "danceability        0\n",
              "energy              0\n",
              "key                 0\n",
              "loudness            0\n",
              "speechiness         0\n",
              "acousticness        0\n",
              "instrumentalness    0\n",
              "liveness            0\n",
              "valence             0\n",
              "tempo               0\n",
              "genre               0\n",
              "dtype: int64"
            ]
          },
          "metadata": {
            "tags": []
          },
          "execution_count": 41
        }
      ]
    },
    {
      "cell_type": "markdown",
      "metadata": {
        "id": "40mkqePgJe2k"
      },
      "source": [
        "특성 분포 시각화"
      ]
    },
    {
      "cell_type": "code",
      "metadata": {
        "colab": {
          "base_uri": "https://localhost:8080/",
          "height": 387
        },
        "id": "WeeB6L4pJg0P",
        "outputId": "84e6ceb4-5c80-45fb-b398-845768449ff4"
      },
      "source": [
        "import seaborn as sns\n",
        "\n",
        "# danceability 값은 0~1 사이에 위치하며 이상치가 아주 큰 차이의 이상치는 눈에 띄지 않는다.\n",
        "sns.displot(df, x=\"danceability\")"
      ],
      "execution_count": null,
      "outputs": [
        {
          "output_type": "execute_result",
          "data": {
            "text/plain": [
              "<seaborn.axisgrid.FacetGrid at 0x7f4c35bae7f0>"
            ]
          },
          "metadata": {
            "tags": []
          },
          "execution_count": 19
        },
        {
          "output_type": "display_data",
          "data": {
            "image/png": "[encoded data removed]",
            "text/plain": [
              "<Figure size 360x360 with 1 Axes>"
            ]
          },
          "metadata": {
            "tags": [],
            "needs_background": "light"
          }
        }
      ]
    },
    {
      "cell_type": "code",
      "metadata": {
        "colab": {
          "base_uri": "https://localhost:8080/",
          "height": 387
        },
        "id": "aBn4pp0KJnk0",
        "outputId": "38589129-e296-4611-cda3-f7f35264d57e"
      },
      "source": [
        "# -20~0 사이에서 비교적 정규분포의 모습이 나온다. \n",
        "sns.displot(df, x=\"loudness\")"
      ],
      "execution_count": null,
      "outputs": [
        {
          "output_type": "execute_result",
          "data": {
            "text/plain": [
              "<seaborn.axisgrid.FacetGrid at 0x7f4c2cabffd0>"
            ]
          },
          "metadata": {
            "tags": []
          },
          "execution_count": 20
        },
        {
          "output_type": "display_data",
          "data": {
            "image/png": "[encoded data removed]",
            "text/plain": [
              "<Figure size 360x360 with 1 Axes>"
            ]
          },
          "metadata": {
            "tags": [],
            "needs_background": "light"
          }
        }
      ]
    },
    {
      "cell_type": "code",
      "metadata": {
        "colab": {
          "base_uri": "https://localhost:8080/",
          "height": 387
        },
        "id": "fZ23UHqyJz8F",
        "outputId": "ecb24484-80e0-48d5-9e4e-92faa0fb5947"
      },
      "source": [
        "# 다수가 0.0에 가까운 수치를 가지고 있으나 이상치가 넓게 퍼져있다.\n",
        "sns.displot(df, x=\"acousticness\")"
      ],
      "execution_count": null,
      "outputs": [
        {
          "output_type": "execute_result",
          "data": {
            "text/plain": [
              "<seaborn.axisgrid.FacetGrid at 0x7f4c35407b70>"
            ]
          },
          "metadata": {
            "tags": []
          },
          "execution_count": 22
        },
        {
          "output_type": "display_data",
          "data": {
            "image/png": "[encoded data removed]",
            "text/plain": [
              "<Figure size 360x360 with 1 Axes>"
            ]
          },
          "metadata": {
            "tags": [],
            "needs_background": "light"
          }
        }
      ]
    },
    {
      "cell_type": "code",
      "metadata": {
        "colab": {
          "base_uri": "https://localhost:8080/",
          "height": 387
        },
        "id": "AWObglcAJs-4",
        "outputId": "a4d12656-4363-4e19-923f-da7e31f7b3b9"
      },
      "source": [
        "# 70bpm부터 220bpm까지 넓은 범위로 분포되어있다.\n",
        "sns.displot(df, x=\"tempo\")"
      ],
      "execution_count": null,
      "outputs": [
        {
          "output_type": "execute_result",
          "data": {
            "text/plain": [
              "<seaborn.axisgrid.FacetGrid at 0x7f4c2c414a58>"
            ]
          },
          "metadata": {
            "tags": []
          },
          "execution_count": 21
        },
        {
          "output_type": "display_data",
          "data": {
            "image/png": "[encoded data removed]",
            "text/plain": [
              "<Figure size 360x360 with 1 Axes>"
            ]
          },
          "metadata": {
            "tags": [],
            "needs_background": "light"
          }
        }
      ]
    },
    {
      "cell_type": "markdown",
      "metadata": {
        "id": "xRAwBBn6Qwb5"
      },
      "source": [
        "3. train/val 데이터셋 나누기"
      ]
    },
    {
      "cell_type": "code",
      "metadata": {
        "id": "hzocVjjNRhdF"
      },
      "source": [
        "target = 'genre'\n",
        "features = df.columns.drop([target])\n",
        "\n",
        "X = df[features]\n",
        "y = df[target]"
      ],
      "execution_count": null,
      "outputs": []
    },
    {
      "cell_type": "code",
      "metadata": {
        "id": "xyH1gOmjRZFn"
      },
      "source": [
        "#특성 데이터 정규화하기 => MinMaxScaler : 모든 특성값을 0~1사이에 있도록 만든다. 이상치에 민감한 편.\n",
        "scaler = MinMaxScaler()\n",
        "X_sc = scaler.fit_transform(X)"
      ],
      "execution_count": null,
      "outputs": []
    },
    {
      "cell_type": "code",
      "metadata": {
        "colab": {
          "base_uri": "https://localhost:8080/"
        },
        "id": "bfZa5P88SQ44",
        "outputId": "f7ce2c02-f96c-4f03-902b-e898386c73bc"
      },
      "source": [
        "#레이블 데이터도 array로 맞춰 주기\n",
        "y_arr = y.values\n",
        "y_arr"
      ],
      "execution_count": null,
      "outputs": [
        {
          "output_type": "execute_result",
          "data": {
            "text/plain": [
              "array(['Dark Trap', 'Dark Trap', 'Dark Trap', ..., 'hardstyle',\n",
              "       'hardstyle', 'hardstyle'], dtype=object)"
            ]
          },
          "metadata": {
            "tags": []
          },
          "execution_count": 26
        }
      ]
    },
    {
      "cell_type": "code",
      "metadata": {
        "id": "w-NPU50jS9iS"
      },
      "source": [
        "from sklearn.model_selection import train_test_split\n",
        "\n",
        "#train/test 나누기\n",
        "X_train,X_test,y_train,y_test = train_test_split(X_sc, y_arr, test_size=0.2, random_state=20)"
      ],
      "execution_count": null,
      "outputs": []
    },
    {
      "cell_type": "code",
      "metadata": {
        "colab": {
          "base_uri": "https://localhost:8080/"
        },
        "id": "tLfEG77LTTKH",
        "outputId": "1725c928-cc24-47c0-f13d-bab08910468d"
      },
      "source": [
        "X_train.shape, X_test.shape"
      ],
      "execution_count": null,
      "outputs": [
        {
          "output_type": "execute_result",
          "data": {
            "text/plain": [
              "((33844, 10), (8461, 10))"
            ]
          },
          "metadata": {
            "tags": []
          },
          "execution_count": 28
        }
      ]
    },
    {
      "cell_type": "code",
      "metadata": {
        "colab": {
          "base_uri": "https://localhost:8080/"
        },
        "id": "9vosVYf2TlhM",
        "outputId": "06f8b08e-6f37-469a-e247-4dd648f30e4b"
      },
      "source": [
        "y_train.shape,y_test.shape"
      ],
      "execution_count": null,
      "outputs": [
        {
          "output_type": "execute_result",
          "data": {
            "text/plain": [
              "((33844,), (8461,))"
            ]
          },
          "metadata": {
            "tags": []
          },
          "execution_count": 29
        }
      ]
    },
    {
      "cell_type": "markdown",
      "metadata": {
        "id": "h3_YLMPjBo72"
      },
      "source": [
        "4. 머신러닝 모델 - RandomForest Classification 활용하기\n",
        "\n"
      ]
    },
    {
      "cell_type": "code",
      "metadata": {
        "id": "fYCZp7NyBobE"
      },
      "source": [
        "import numpy as np\n",
        "np.random.seed(111)\n",
        "\n",
        "from sklearn.ensemble import RandomForestClassifier\n",
        "from sklearn.metrics import accuracy_score\n",
        "from sklearn.preprocessing import MinMaxScaler,StandardScaler,RobustScaler\n",
        "from sklearn.pipeline import make_pipeline\n",
        "from sklearn.model_selection import cross_val_score, StratifiedKFold"
      ],
      "execution_count": null,
      "outputs": []
    },
    {
      "cell_type": "code",
      "metadata": {
        "colab": {
          "base_uri": "https://localhost:8080/"
        },
        "id": "4_Ob0HijT_l_",
        "outputId": "2192fe1d-83dd-49e5-f457-16e46e7dd087"
      },
      "source": [
        "#RandomForest 모델 만들기\n",
        "\n",
        "rfc = RandomForestClassifier(max_depth=7, \n",
        "                             max_features=10, #모든 특성 다 넣기\n",
        "                             n_estimators=150,\n",
        "                             random_state=50,\n",
        "                             min_samples_leaf=10,\n",
        "                             n_jobs=-1\n",
        "                            )\n",
        "\n",
        "rfc.fit(X_train, y_train)\n",
        "y_pred = rfc.predict(X_train)\n",
        "print('train 데이터 정확도:', accuracy_score(y_train, y_pred))"
      ],
      "execution_count": null,
      "outputs": [
        {
          "output_type": "stream",
          "text": [
            "train 데이터 정확도: 0.6129003663869519\n"
          ],
          "name": "stdout"
        }
      ]
    },
    {
      "cell_type": "code",
      "metadata": {
        "colab": {
          "base_uri": "https://localhost:8080/"
        },
        "id": "RMngKHw9VYB0",
        "outputId": "e7e8e427-0cfa-469f-9eaa-09a816bd8a68"
      },
      "source": [
        "# label의 분포가 각 클래스별로 불균형하니 StratifiedKFold로 교차검증 수행\n",
        "\n",
        "skf = StratifiedKFold(n_splits=5, shuffle=True, random_state=0)\n",
        "scores = cross_val_score(rfc, X_train, y_train, cv=skf, \n",
        "                         scoring='accuracy')\n",
        "\n",
        "print('train 데이터 교차 검증별 정확도:', np.round(scores, 4))\n",
        "print('train 데이터 정확도:', np.round(np.mean(scores), 4))"
      ],
      "execution_count": null,
      "outputs": [
        {
          "output_type": "stream",
          "text": [
            "train 데이터 교차 검증별 정확도: [0.6095 0.597  0.5996 0.594  0.604 ]\n",
            "train 데이터 정확도: 0.6008\n"
          ],
          "name": "stdout"
        }
      ]
    },
    {
      "cell_type": "code",
      "metadata": {
        "colab": {
          "base_uri": "https://localhost:8080/"
        },
        "id": "98hFyD0NSghM",
        "outputId": "3bc7fbb6-00bd-458d-c51d-fc0c3bc7a561"
      },
      "source": [
        "skf = StratifiedKFold(n_splits=5, shuffle=True, random_state=0)\n",
        "scores_t = cross_val_score(rfc, X_test, y_test, cv=skf, \n",
        "                         scoring='accuracy')\n",
        "\n",
        "print('test 데이터 교차 검증별 정확도:', np.round(scores_t, 4))\n",
        "print('test 데이터 정확도:', np.round(np.mean(scores_t), 4))"
      ],
      "execution_count": null,
      "outputs": [
        {
          "output_type": "stream",
          "text": [
            "test 데이터 교차 검증별 정확도: [0.5954 0.5963 0.578  0.5987 0.5922]\n",
            "test 데이터 정확도: 0.5921\n"
          ],
          "name": "stdout"
        }
      ]
    },
    {
      "cell_type": "code",
      "metadata": {
        "id": "x2gjxmn8T_df"
      },
      "source": [
        "# y_test_pred = rfc.predict(X_test)\n",
        "# print('test 데이터 정확도:', accuracy_score(y_test, y_test_pred))"
      ],
      "execution_count": null,
      "outputs": []
    },
    {
      "cell_type": "markdown",
      "metadata": {
        "id": "1orOFVT-Bvbf"
      },
      "source": [
        "음원 특성을 기준으로 음악 장르를 구분하는 머신러닝 모델을 만들었다.\n",
        "\n",
        "StratifiedKFold을 사용해 교차검증을 수행하니 test데이터는 train데이터에 비해 1% 정도 성능이 떨어졌다.\n",
        "\n",
        "새로운 음원 정보 데이터가 들어왔을 때, 그 음원의 장르를 약 59%의 정확도로 구분한다고 볼 수 있겠다. 성능이 그닥 좋진 않다."
      ]
    },
    {
      "cell_type": "markdown",
      "metadata": {
        "id": "8pRrsjeATI0R"
      },
      "source": [
        "6. 딥러닝 모델 - 다층퍼셉트론"
      ]
    },
    {
      "cell_type": "code",
      "metadata": {
        "id": "zwOFcKN7gW8s",
        "colab": {
          "base_uri": "https://localhost:8080/"
        },
        "outputId": "78b474ff-e458-4b0d-fef9-3271b8b92812"
      },
      "source": [
        "np.random.seed(111)\n",
        "\n",
        "import tensorflow as tf\n",
        "from tensorflow.keras.models import Sequential\n",
        "from tensorflow.keras.layers import Dense,Dropout\n",
        "from keras.wrappers.scikit_learn import KerasClassifier\n",
        "from keras.utils import np_utils\n",
        "\n",
        "#disable the v2 behavior and eager mode\n",
        "tf.compat.v1.disable_eager_execution()\n",
        "tf.compat.v1.disable_v2_behavior()"
      ],
      "execution_count": null,
      "outputs": [
        {
          "output_type": "stream",
          "text": [
            "WARNING:tensorflow:From /usr/local/lib/python3.6/dist-packages/tensorflow/python/compat/v2_compat.py:96: disable_resource_variables (from tensorflow.python.ops.variable_scope) is deprecated and will be removed in a future version.\n",
            "Instructions for updating:\n",
            "non-resource variables are not supported in the long term\n"
          ],
          "name": "stdout"
        }
      ]
    },
    {
      "cell_type": "code",
      "metadata": {
        "id": "apK6DCqVYXzb"
      },
      "source": [
        "# model 만들기\n",
        "def base_model():\n",
        "  model = Sequential()\n",
        "  model.add(Dense(150, input_dim=10, activation='relu'))\n",
        "  model.add(Dropout(0.2))\n",
        "  model.add(Dense(150, activation='relu'))\n",
        "  model.add(Dropout(0.2))\n",
        "  model.add(Dense(150, activation='relu'))\n",
        "  model.add(Dropout(0.2))\n",
        "  model.add(Dense(15, activation='softmax'))\n",
        "  \n",
        "  model.compile(optimizer='adam', loss='sparse_categorical_crossentropy', metrics=['accuracy'])\n",
        "\n",
        "  return model\n",
        "\n",
        "estimator = KerasClassifier(build_fn=base_model,epochs=50, batch_size=128)"
      ],
      "execution_count": null,
      "outputs": []
    },
    {
      "cell_type": "code",
      "metadata": {
        "colab": {
          "base_uri": "https://localhost:8080/"
        },
        "id": "L-EYiE4sZVZf",
        "outputId": "6ebf451d-93a1-4834-ab94-0c4d3022850d"
      },
      "source": [
        "from sklearn.model_selection import cross_val_score, StratifiedKFold\n",
        "\n",
        "skf = StratifiedKFold(n_splits=5, shuffle=True, random_state=0)\n",
        "scores_nn = cross_val_score(estimator, X_train, y_train, cv=skf, \n",
        "                         scoring='accuracy')\n",
        "\n",
        "print('train 데이터 정확도:', np.round(np.mean(scores_nn), 4))"
      ],
      "execution_count": null,
      "outputs": [
        {
          "output_type": "stream",
          "text": [
            "Train on 27075 samples\n",
            "Epoch 1/50\n",
            "27075/27075 [==============================] - 1s 44us/sample - loss: 1.9729 - acc: 0.3228\n",
            "Epoch 2/50\n",
            "27075/27075 [==============================] - 1s 32us/sample - loss: 1.6003 - acc: 0.4400\n",
            "Epoch 3/50\n",
            "27075/27075 [==============================] - 1s 31us/sample - loss: 1.4816 - acc: 0.4861\n",
            "Epoch 4/50\n",
            "27075/27075 [==============================] - 1s 31us/sample - loss: 1.3931 - acc: 0.5153\n",
            "Epoch 5/50\n",
            "27075/27075 [==============================] - 1s 31us/sample - loss: 1.3276 - acc: 0.5359\n",
            "Epoch 6/50\n",
            "27075/27075 [==============================] - 1s 34us/sample - loss: 1.2876 - acc: 0.5508\n",
            "Epoch 7/50\n",
            "27075/27075 [==============================] - 1s 35us/sample - loss: 1.2508 - acc: 0.5637\n",
            "Epoch 8/50\n",
            "27075/27075 [==============================] - 1s 33us/sample - loss: 1.2271 - acc: 0.5703\n",
            "Epoch 9/50\n",
            "27075/27075 [==============================] - 1s 31us/sample - loss: 1.2064 - acc: 0.5754\n",
            "Epoch 10/50\n",
            "27075/27075 [==============================] - 1s 32us/sample - loss: 1.1987 - acc: 0.5783\n",
            "Epoch 11/50\n",
            "27075/27075 [==============================] - 1s 32us/sample - loss: 1.1760 - acc: 0.5897\n",
            "Epoch 12/50\n",
            "27075/27075 [==============================] - 1s 33us/sample - loss: 1.1651 - acc: 0.5915\n",
            "Epoch 13/50\n",
            "27075/27075 [==============================] - 1s 34us/sample - loss: 1.1566 - acc: 0.5941\n",
            "Epoch 14/50\n",
            "27075/27075 [==============================] - 1s 32us/sample - loss: 1.1508 - acc: 0.5934\n",
            "Epoch 15/50\n",
            "27075/27075 [==============================] - 1s 31us/sample - loss: 1.1409 - acc: 0.5997\n",
            "Epoch 16/50\n",
            "27075/27075 [==============================] - 1s 31us/sample - loss: 1.1316 - acc: 0.6025\n",
            "Epoch 17/50\n",
            "27075/27075 [==============================] - 1s 31us/sample - loss: 1.1305 - acc: 0.6018\n",
            "Epoch 18/50\n",
            "27075/27075 [==============================] - 1s 30us/sample - loss: 1.1197 - acc: 0.6034\n",
            "Epoch 19/50\n",
            "27075/27075 [==============================] - 1s 30us/sample - loss: 1.1199 - acc: 0.6029\n",
            "Epoch 20/50\n",
            "27075/27075 [==============================] - 1s 30us/sample - loss: 1.1133 - acc: 0.6089\n",
            "Epoch 21/50\n",
            "27075/27075 [==============================] - 1s 29us/sample - loss: 1.1066 - acc: 0.6074\n",
            "Epoch 22/50\n",
            "27075/27075 [==============================] - 1s 29us/sample - loss: 1.1042 - acc: 0.6115\n",
            "Epoch 23/50\n",
            "27075/27075 [==============================] - 1s 31us/sample - loss: 1.0952 - acc: 0.6114\n",
            "Epoch 24/50\n",
            "27075/27075 [==============================] - 1s 32us/sample - loss: 1.0935 - acc: 0.6123\n",
            "Epoch 25/50\n",
            "27075/27075 [==============================] - 1s 32us/sample - loss: 1.0988 - acc: 0.6140\n",
            "Epoch 26/50\n",
            "27075/27075 [==============================] - 1s 32us/sample - loss: 1.0883 - acc: 0.6174\n",
            "Epoch 27/50\n",
            "27075/27075 [==============================] - 1s 30us/sample - loss: 1.0875 - acc: 0.6157\n",
            "Epoch 28/50\n",
            "27075/27075 [==============================] - 1s 31us/sample - loss: 1.0835 - acc: 0.6164\n",
            "Epoch 29/50\n",
            "27075/27075 [==============================] - 1s 30us/sample - loss: 1.0860 - acc: 0.6173\n",
            "Epoch 30/50\n",
            "27075/27075 [==============================] - 1s 32us/sample - loss: 1.0823 - acc: 0.6180\n",
            "Epoch 31/50\n",
            "27075/27075 [==============================] - 1s 31us/sample - loss: 1.0785 - acc: 0.6187\n",
            "Epoch 32/50\n",
            "27075/27075 [==============================] - 1s 32us/sample - loss: 1.0712 - acc: 0.6191\n",
            "Epoch 33/50\n",
            "27075/27075 [==============================] - 1s 31us/sample - loss: 1.0686 - acc: 0.6204\n",
            "Epoch 34/50\n",
            "27075/27075 [==============================] - 1s 31us/sample - loss: 1.0650 - acc: 0.6227\n",
            "Epoch 35/50\n",
            "27075/27075 [==============================] - 1s 32us/sample - loss: 1.0673 - acc: 0.6198\n",
            "Epoch 36/50\n",
            "27075/27075 [==============================] - 1s 31us/sample - loss: 1.0649 - acc: 0.6209\n",
            "Epoch 37/50\n",
            "27075/27075 [==============================] - 1s 30us/sample - loss: 1.0644 - acc: 0.6233\n",
            "Epoch 38/50\n",
            "27075/27075 [==============================] - 1s 31us/sample - loss: 1.0626 - acc: 0.6216\n",
            "Epoch 39/50\n",
            "27075/27075 [==============================] - 1s 31us/sample - loss: 1.0562 - acc: 0.6239\n",
            "Epoch 40/50\n",
            "27075/27075 [==============================] - 1s 30us/sample - loss: 1.0554 - acc: 0.6249\n",
            "Epoch 41/50\n",
            "27075/27075 [==============================] - 1s 31us/sample - loss: 1.0585 - acc: 0.6237\n",
            "Epoch 42/50\n",
            "27075/27075 [==============================] - 1s 32us/sample - loss: 1.0526 - acc: 0.6277\n",
            "Epoch 43/50\n",
            "27075/27075 [==============================] - 1s 30us/sample - loss: 1.0523 - acc: 0.6283\n",
            "Epoch 44/50\n",
            "27075/27075 [==============================] - 1s 31us/sample - loss: 1.0503 - acc: 0.6272\n",
            "Epoch 45/50\n",
            "27075/27075 [==============================] - 1s 30us/sample - loss: 1.0495 - acc: 0.6284\n",
            "Epoch 46/50\n",
            "27075/27075 [==============================] - 1s 30us/sample - loss: 1.0474 - acc: 0.6293\n",
            "Epoch 47/50\n",
            "27075/27075 [==============================] - 1s 29us/sample - loss: 1.0475 - acc: 0.6278\n",
            "Epoch 48/50\n",
            "27075/27075 [==============================] - 1s 30us/sample - loss: 1.0467 - acc: 0.6271\n",
            "Epoch 49/50\n",
            "27075/27075 [==============================] - 1s 30us/sample - loss: 1.0405 - acc: 0.6304\n",
            "Epoch 50/50\n",
            "27075/27075 [==============================] - 1s 31us/sample - loss: 1.0441 - acc: 0.6279\n"
          ],
          "name": "stdout"
        },
        {
          "output_type": "stream",
          "text": [
            "/usr/local/lib/python3.6/dist-packages/tensorflow/python/keras/engine/sequential.py:450: UserWarning: `model.predict_classes()` is deprecated and will be removed after 2021-01-01. Please use instead:* `np.argmax(model.predict(x), axis=-1)`,   if your model does multi-class classification   (e.g. if it uses a `softmax` last-layer activation).* `(model.predict(x) > 0.5).astype(\"int32\")`,   if your model does binary classification   (e.g. if it uses a `sigmoid` last-layer activation).\n",
            "  warnings.warn('`model.predict_classes()` is deprecated and '\n",
            "/usr/local/lib/python3.6/dist-packages/tensorflow/python/keras/engine/training.py:2325: UserWarning: `Model.state_updates` will be removed in a future version. This property should not be used in TensorFlow 2.0, as `updates` are applied automatically.\n",
            "  warnings.warn('`Model.state_updates` will be removed in a future version. '\n"
          ],
          "name": "stderr"
        },
        {
          "output_type": "stream",
          "text": [
            "Train on 27075 samples\n",
            "Epoch 1/50\n",
            "27075/27075 [==============================] - 1s 34us/sample - loss: 1.9761 - acc: 0.3220\n",
            "Epoch 2/50\n",
            "27075/27075 [==============================] - 1s 30us/sample - loss: 1.6023 - acc: 0.4382\n",
            "Epoch 3/50\n",
            "27075/27075 [==============================] - 1s 30us/sample - loss: 1.4690 - acc: 0.4882\n",
            "Epoch 4/50\n",
            "27075/27075 [==============================] - 1s 33us/sample - loss: 1.3784 - acc: 0.5208\n",
            "Epoch 5/50\n",
            "27075/27075 [==============================] - 1s 32us/sample - loss: 1.3113 - acc: 0.5423\n",
            "Epoch 6/50\n",
            "27075/27075 [==============================] - 1s 33us/sample - loss: 1.2738 - acc: 0.5536\n",
            "Epoch 7/50\n",
            "27075/27075 [==============================] - 1s 33us/sample - loss: 1.2487 - acc: 0.5656\n",
            "Epoch 8/50\n",
            "27075/27075 [==============================] - 1s 32us/sample - loss: 1.2213 - acc: 0.5725\n",
            "Epoch 9/50\n",
            "27075/27075 [==============================] - 1s 33us/sample - loss: 1.2030 - acc: 0.5755\n",
            "Epoch 10/50\n",
            "27075/27075 [==============================] - 1s 30us/sample - loss: 1.1830 - acc: 0.5866\n",
            "Epoch 11/50\n",
            "27075/27075 [==============================] - 1s 31us/sample - loss: 1.1676 - acc: 0.5888\n",
            "Epoch 12/50\n",
            "27075/27075 [==============================] - 1s 30us/sample - loss: 1.1654 - acc: 0.5890\n",
            "Epoch 13/50\n",
            "27075/27075 [==============================] - 1s 29us/sample - loss: 1.1512 - acc: 0.5948\n",
            "Epoch 14/50\n",
            "27075/27075 [==============================] - 1s 33us/sample - loss: 1.1399 - acc: 0.5992\n",
            "Epoch 15/50\n",
            "27075/27075 [==============================] - 1s 31us/sample - loss: 1.1363 - acc: 0.5984\n",
            "Epoch 16/50\n",
            "27075/27075 [==============================] - 1s 32us/sample - loss: 1.1279 - acc: 0.5996\n",
            "Epoch 17/50\n",
            "27075/27075 [==============================] - 1s 30us/sample - loss: 1.1158 - acc: 0.6053\n",
            "Epoch 18/50\n",
            "27075/27075 [==============================] - 1s 31us/sample - loss: 1.1210 - acc: 0.6028\n",
            "Epoch 19/50\n",
            "27075/27075 [==============================] - 1s 32us/sample - loss: 1.1110 - acc: 0.6106\n",
            "Epoch 20/50\n",
            "27075/27075 [==============================] - 1s 31us/sample - loss: 1.1095 - acc: 0.6088\n",
            "Epoch 21/50\n",
            "27075/27075 [==============================] - 1s 31us/sample - loss: 1.0990 - acc: 0.6106\n",
            "Epoch 22/50\n",
            "27075/27075 [==============================] - 1s 30us/sample - loss: 1.0956 - acc: 0.6120\n",
            "Epoch 23/50\n",
            "27075/27075 [==============================] - 1s 30us/sample - loss: 1.0944 - acc: 0.6117\n",
            "Epoch 24/50\n",
            "27075/27075 [==============================] - 1s 30us/sample - loss: 1.0924 - acc: 0.6098\n",
            "Epoch 25/50\n",
            "27075/27075 [==============================] - 1s 30us/sample - loss: 1.0819 - acc: 0.6164\n",
            "Epoch 26/50\n",
            "27075/27075 [==============================] - 1s 30us/sample - loss: 1.0861 - acc: 0.6152\n",
            "Epoch 27/50\n",
            "27075/27075 [==============================] - 1s 30us/sample - loss: 1.0794 - acc: 0.6151\n",
            "Epoch 28/50\n",
            "27075/27075 [==============================] - 1s 31us/sample - loss: 1.0782 - acc: 0.6197\n",
            "Epoch 29/50\n",
            "27075/27075 [==============================] - 1s 30us/sample - loss: 1.0775 - acc: 0.6184\n",
            "Epoch 30/50\n",
            "27075/27075 [==============================] - 1s 30us/sample - loss: 1.0711 - acc: 0.6190\n",
            "Epoch 31/50\n",
            "27075/27075 [==============================] - 1s 30us/sample - loss: 1.0772 - acc: 0.6193\n",
            "Epoch 32/50\n",
            "27075/27075 [==============================] - 1s 31us/sample - loss: 1.0675 - acc: 0.6228\n",
            "Epoch 33/50\n",
            "27075/27075 [==============================] - 1s 30us/sample - loss: 1.0681 - acc: 0.6208\n",
            "Epoch 34/50\n",
            "27075/27075 [==============================] - 1s 31us/sample - loss: 1.0638 - acc: 0.6234\n",
            "Epoch 35/50\n",
            "27075/27075 [==============================] - 1s 32us/sample - loss: 1.0625 - acc: 0.6241\n",
            "Epoch 36/50\n",
            "27075/27075 [==============================] - 1s 30us/sample - loss: 1.0610 - acc: 0.6249\n",
            "Epoch 37/50\n",
            "27075/27075 [==============================] - 1s 31us/sample - loss: 1.0545 - acc: 0.6237\n",
            "Epoch 38/50\n",
            "27075/27075 [==============================] - 1s 31us/sample - loss: 1.0545 - acc: 0.6236\n",
            "Epoch 39/50\n",
            "27075/27075 [==============================] - 1s 30us/sample - loss: 1.0560 - acc: 0.6256\n",
            "Epoch 40/50\n",
            "27075/27075 [==============================] - 1s 31us/sample - loss: 1.0552 - acc: 0.6242\n",
            "Epoch 41/50\n",
            "27075/27075 [==============================] - 1s 31us/sample - loss: 1.0531 - acc: 0.6255\n",
            "Epoch 42/50\n",
            "27075/27075 [==============================] - 1s 31us/sample - loss: 1.0470 - acc: 0.6293\n",
            "Epoch 43/50\n",
            "27075/27075 [==============================] - 1s 31us/sample - loss: 1.0472 - acc: 0.6275\n",
            "Epoch 44/50\n",
            "27075/27075 [==============================] - 1s 30us/sample - loss: 1.0457 - acc: 0.6280\n",
            "Epoch 45/50\n",
            "27075/27075 [==============================] - 1s 30us/sample - loss: 1.0425 - acc: 0.6322\n",
            "Epoch 46/50\n",
            "27075/27075 [==============================] - 1s 31us/sample - loss: 1.0399 - acc: 0.6313\n",
            "Epoch 47/50\n",
            "27075/27075 [==============================] - 1s 31us/sample - loss: 1.0446 - acc: 0.6256\n",
            "Epoch 48/50\n",
            "27075/27075 [==============================] - 1s 30us/sample - loss: 1.0412 - acc: 0.6283\n",
            "Epoch 49/50\n",
            "27075/27075 [==============================] - 1s 31us/sample - loss: 1.0338 - acc: 0.6341\n",
            "Epoch 50/50\n",
            "27075/27075 [==============================] - 1s 30us/sample - loss: 1.0327 - acc: 0.6312\n",
            "Train on 27075 samples\n",
            "Epoch 1/50\n",
            "27075/27075 [==============================] - 1s 33us/sample - loss: 1.9701 - acc: 0.3256\n",
            "Epoch 2/50\n",
            "27075/27075 [==============================] - 1s 31us/sample - loss: 1.5888 - acc: 0.4443\n",
            "Epoch 3/50\n",
            "27075/27075 [==============================] - 1s 32us/sample - loss: 1.4797 - acc: 0.4860\n",
            "Epoch 4/50\n",
            "27075/27075 [==============================] - 1s 30us/sample - loss: 1.3891 - acc: 0.5165\n",
            "Epoch 5/50\n",
            "27075/27075 [==============================] - 1s 32us/sample - loss: 1.3210 - acc: 0.5413\n",
            "Epoch 6/50\n",
            "27075/27075 [==============================] - 1s 32us/sample - loss: 1.2801 - acc: 0.5568\n",
            "Epoch 7/50\n",
            "27075/27075 [==============================] - 1s 30us/sample - loss: 1.2446 - acc: 0.5639\n",
            "Epoch 8/50\n",
            "27075/27075 [==============================] - 1s 30us/sample - loss: 1.2237 - acc: 0.5695\n",
            "Epoch 9/50\n",
            "27075/27075 [==============================] - 1s 30us/sample - loss: 1.1986 - acc: 0.5812\n",
            "Epoch 10/50\n",
            "27075/27075 [==============================] - 1s 30us/sample - loss: 1.1865 - acc: 0.5822\n",
            "Epoch 11/50\n",
            "27075/27075 [==============================] - 1s 31us/sample - loss: 1.1688 - acc: 0.5917\n",
            "Epoch 12/50\n",
            "27075/27075 [==============================] - 1s 31us/sample - loss: 1.1624 - acc: 0.5910\n",
            "Epoch 13/50\n",
            "27075/27075 [==============================] - 1s 31us/sample - loss: 1.1475 - acc: 0.5936\n",
            "Epoch 14/50\n",
            "27075/27075 [==============================] - 1s 31us/sample - loss: 1.1416 - acc: 0.5961\n",
            "Epoch 15/50\n",
            "27075/27075 [==============================] - 1s 32us/sample - loss: 1.1355 - acc: 0.6010\n",
            "Epoch 16/50\n",
            "27075/27075 [==============================] - 1s 30us/sample - loss: 1.1307 - acc: 0.5988\n",
            "Epoch 17/50\n",
            "27075/27075 [==============================] - 1s 31us/sample - loss: 1.1246 - acc: 0.6034\n",
            "Epoch 18/50\n",
            "27075/27075 [==============================] - 1s 31us/sample - loss: 1.1240 - acc: 0.6049\n",
            "Epoch 19/50\n",
            "27075/27075 [==============================] - 1s 31us/sample - loss: 1.1129 - acc: 0.6097\n",
            "Epoch 20/50\n",
            "27075/27075 [==============================] - 1s 32us/sample - loss: 1.1121 - acc: 0.6095\n",
            "Epoch 21/50\n",
            "27075/27075 [==============================] - 1s 30us/sample - loss: 1.1052 - acc: 0.6119\n",
            "Epoch 22/50\n",
            "27075/27075 [==============================] - 1s 31us/sample - loss: 1.1059 - acc: 0.6082\n",
            "Epoch 23/50\n",
            "27075/27075 [==============================] - 1s 32us/sample - loss: 1.1005 - acc: 0.6107\n",
            "Epoch 24/50\n",
            "27075/27075 [==============================] - 1s 31us/sample - loss: 1.0936 - acc: 0.6130\n",
            "Epoch 25/50\n",
            "27075/27075 [==============================] - 1s 32us/sample - loss: 1.0954 - acc: 0.6166\n",
            "Epoch 26/50\n",
            "27075/27075 [==============================] - 1s 31us/sample - loss: 1.0866 - acc: 0.6183\n",
            "Epoch 27/50\n",
            "27075/27075 [==============================] - 1s 32us/sample - loss: 1.0856 - acc: 0.6150\n",
            "Epoch 28/50\n",
            "27075/27075 [==============================] - 1s 32us/sample - loss: 1.0836 - acc: 0.6154\n",
            "Epoch 29/50\n",
            "27075/27075 [==============================] - 1s 32us/sample - loss: 1.0806 - acc: 0.6186\n",
            "Epoch 30/50\n",
            "27075/27075 [==============================] - 1s 32us/sample - loss: 1.0761 - acc: 0.6190\n",
            "Epoch 31/50\n",
            "27075/27075 [==============================] - 1s 31us/sample - loss: 1.0775 - acc: 0.6171\n",
            "Epoch 32/50\n",
            "27075/27075 [==============================] - 1s 32us/sample - loss: 1.0748 - acc: 0.6181\n",
            "Epoch 33/50\n",
            "27075/27075 [==============================] - 1s 31us/sample - loss: 1.0730 - acc: 0.6193\n",
            "Epoch 34/50\n",
            "27075/27075 [==============================] - 1s 31us/sample - loss: 1.0704 - acc: 0.6209\n",
            "Epoch 35/50\n",
            "27075/27075 [==============================] - 1s 31us/sample - loss: 1.0684 - acc: 0.6241\n",
            "Epoch 36/50\n",
            "27075/27075 [==============================] - 1s 31us/sample - loss: 1.0665 - acc: 0.6242\n",
            "Epoch 37/50\n",
            "27075/27075 [==============================] - 1s 31us/sample - loss: 1.0667 - acc: 0.6231\n",
            "Epoch 38/50\n",
            "27075/27075 [==============================] - 1s 32us/sample - loss: 1.0610 - acc: 0.6215\n",
            "Epoch 39/50\n",
            "27075/27075 [==============================] - 1s 31us/sample - loss: 1.0609 - acc: 0.6214\n",
            "Epoch 40/50\n",
            "27075/27075 [==============================] - 1s 31us/sample - loss: 1.0587 - acc: 0.6230\n",
            "Epoch 41/50\n",
            "27075/27075 [==============================] - 1s 31us/sample - loss: 1.0587 - acc: 0.6252\n",
            "Epoch 42/50\n",
            "27075/27075 [==============================] - 1s 32us/sample - loss: 1.0516 - acc: 0.6273\n",
            "Epoch 43/50\n",
            "27075/27075 [==============================] - 1s 32us/sample - loss: 1.0557 - acc: 0.6250\n",
            "Epoch 44/50\n",
            "27075/27075 [==============================] - 1s 32us/sample - loss: 1.0552 - acc: 0.6236\n",
            "Epoch 45/50\n",
            "27075/27075 [==============================] - 1s 32us/sample - loss: 1.0495 - acc: 0.6270\n",
            "Epoch 46/50\n",
            "27075/27075 [==============================] - 1s 31us/sample - loss: 1.0481 - acc: 0.6279\n",
            "Epoch 47/50\n",
            "27075/27075 [==============================] - 1s 31us/sample - loss: 1.0482 - acc: 0.6280\n",
            "Epoch 48/50\n",
            "27075/27075 [==============================] - 1s 32us/sample - loss: 1.0465 - acc: 0.6271\n",
            "Epoch 49/50\n",
            "27075/27075 [==============================] - 1s 32us/sample - loss: 1.0416 - acc: 0.6282\n",
            "Epoch 50/50\n",
            "27075/27075 [==============================] - 1s 31us/sample - loss: 1.0406 - acc: 0.6288\n",
            "Train on 27075 samples\n",
            "Epoch 1/50\n",
            "27075/27075 [==============================] - 1s 35us/sample - loss: 1.9784 - acc: 0.3254\n",
            "Epoch 2/50\n",
            "27075/27075 [==============================] - 1s 30us/sample - loss: 1.5914 - acc: 0.4433\n",
            "Epoch 3/50\n",
            "27075/27075 [==============================] - 1s 31us/sample - loss: 1.4652 - acc: 0.4886\n",
            "Epoch 4/50\n",
            "27075/27075 [==============================] - 1s 31us/sample - loss: 1.3764 - acc: 0.5231\n",
            "Epoch 5/50\n",
            "27075/27075 [==============================] - 1s 32us/sample - loss: 1.3118 - acc: 0.5443\n",
            "Epoch 6/50\n",
            "27075/27075 [==============================] - 1s 31us/sample - loss: 1.2815 - acc: 0.5525\n",
            "Epoch 7/50\n",
            "27075/27075 [==============================] - 1s 31us/sample - loss: 1.2471 - acc: 0.5635\n",
            "Epoch 8/50\n",
            "27075/27075 [==============================] - 1s 31us/sample - loss: 1.2292 - acc: 0.5717\n",
            "Epoch 9/50\n",
            "27075/27075 [==============================] - 1s 31us/sample - loss: 1.2041 - acc: 0.5783\n",
            "Epoch 10/50\n",
            "27075/27075 [==============================] - 1s 31us/sample - loss: 1.1911 - acc: 0.5802\n",
            "Epoch 11/50\n",
            "27075/27075 [==============================] - 1s 31us/sample - loss: 1.1764 - acc: 0.5870\n",
            "Epoch 12/50\n",
            "27075/27075 [==============================] - 1s 31us/sample - loss: 1.1657 - acc: 0.5882\n",
            "Epoch 13/50\n",
            "27075/27075 [==============================] - 1s 30us/sample - loss: 1.1539 - acc: 0.5959\n",
            "Epoch 14/50\n",
            "27075/27075 [==============================] - 1s 31us/sample - loss: 1.1391 - acc: 0.6028\n",
            "Epoch 15/50\n",
            "27075/27075 [==============================] - 1s 31us/sample - loss: 1.1325 - acc: 0.6044\n",
            "Epoch 16/50\n",
            "27075/27075 [==============================] - 1s 31us/sample - loss: 1.1380 - acc: 0.6010\n",
            "Epoch 17/50\n",
            "27075/27075 [==============================] - 1s 31us/sample - loss: 1.1245 - acc: 0.6029\n",
            "Epoch 18/50\n",
            "27075/27075 [==============================] - 1s 30us/sample - loss: 1.1242 - acc: 0.6038\n",
            "Epoch 19/50\n",
            "27075/27075 [==============================] - 1s 31us/sample - loss: 1.1150 - acc: 0.6065\n",
            "Epoch 20/50\n",
            "27075/27075 [==============================] - 1s 31us/sample - loss: 1.1090 - acc: 0.6097\n",
            "Epoch 21/50\n",
            "27075/27075 [==============================] - 1s 31us/sample - loss: 1.1088 - acc: 0.6084\n",
            "Epoch 22/50\n",
            "27075/27075 [==============================] - 1s 31us/sample - loss: 1.0963 - acc: 0.6161\n",
            "Epoch 23/50\n",
            "27075/27075 [==============================] - 1s 30us/sample - loss: 1.0965 - acc: 0.6141\n",
            "Epoch 24/50\n",
            "27075/27075 [==============================] - 1s 30us/sample - loss: 1.0947 - acc: 0.6150\n",
            "Epoch 25/50\n",
            "27075/27075 [==============================] - 1s 31us/sample - loss: 1.0869 - acc: 0.6157\n",
            "Epoch 26/50\n",
            "27075/27075 [==============================] - 1s 31us/sample - loss: 1.0864 - acc: 0.6172\n",
            "Epoch 27/50\n",
            "27075/27075 [==============================] - 1s 31us/sample - loss: 1.0831 - acc: 0.6178\n",
            "Epoch 28/50\n",
            "27075/27075 [==============================] - 1s 33us/sample - loss: 1.0781 - acc: 0.6183\n",
            "Epoch 29/50\n",
            "27075/27075 [==============================] - 1s 30us/sample - loss: 1.0750 - acc: 0.6201\n",
            "Epoch 30/50\n",
            "27075/27075 [==============================] - 1s 31us/sample - loss: 1.0744 - acc: 0.6223\n",
            "Epoch 31/50\n",
            "27075/27075 [==============================] - 1s 31us/sample - loss: 1.0709 - acc: 0.6215\n",
            "Epoch 32/50\n",
            "27075/27075 [==============================] - 1s 32us/sample - loss: 1.0709 - acc: 0.6206\n",
            "Epoch 33/50\n",
            "27075/27075 [==============================] - 1s 33us/sample - loss: 1.0714 - acc: 0.6219\n",
            "Epoch 34/50\n",
            "27075/27075 [==============================] - 1s 32us/sample - loss: 1.0710 - acc: 0.6223\n",
            "Epoch 35/50\n",
            "27075/27075 [==============================] - 1s 33us/sample - loss: 1.0624 - acc: 0.6221\n",
            "Epoch 36/50\n",
            "27075/27075 [==============================] - 1s 32us/sample - loss: 1.0630 - acc: 0.6247\n",
            "Epoch 37/50\n",
            "27075/27075 [==============================] - 1s 33us/sample - loss: 1.0656 - acc: 0.6232\n",
            "Epoch 38/50\n",
            "27075/27075 [==============================] - 1s 33us/sample - loss: 1.0608 - acc: 0.6247\n",
            "Epoch 39/50\n",
            "27075/27075 [==============================] - 1s 32us/sample - loss: 1.0598 - acc: 0.6247\n",
            "Epoch 40/50\n",
            "27075/27075 [==============================] - 1s 32us/sample - loss: 1.0607 - acc: 0.6257\n",
            "Epoch 41/50\n",
            "27075/27075 [==============================] - 1s 31us/sample - loss: 1.0572 - acc: 0.6270\n",
            "Epoch 42/50\n",
            "27075/27075 [==============================] - 1s 30us/sample - loss: 1.0536 - acc: 0.6258\n",
            "Epoch 43/50\n",
            "27075/27075 [==============================] - 1s 31us/sample - loss: 1.0536 - acc: 0.6275\n",
            "Epoch 44/50\n",
            "27075/27075 [==============================] - 1s 31us/sample - loss: 1.0476 - acc: 0.6286\n",
            "Epoch 45/50\n",
            "27075/27075 [==============================] - 1s 32us/sample - loss: 1.0531 - acc: 0.6264\n",
            "Epoch 46/50\n",
            "27075/27075 [==============================] - 1s 32us/sample - loss: 1.0438 - acc: 0.6287\n",
            "Epoch 47/50\n",
            "27075/27075 [==============================] - 1s 31us/sample - loss: 1.0441 - acc: 0.6312\n",
            "Epoch 48/50\n",
            "27075/27075 [==============================] - 1s 31us/sample - loss: 1.0440 - acc: 0.6293\n",
            "Epoch 49/50\n",
            "27075/27075 [==============================] - 1s 30us/sample - loss: 1.0433 - acc: 0.6280\n",
            "Epoch 50/50\n",
            "27075/27075 [==============================] - 1s 30us/sample - loss: 1.0396 - acc: 0.6319\n",
            "Train on 27076 samples\n",
            "Epoch 1/50\n",
            "27076/27076 [==============================] - 1s 35us/sample - loss: 1.9613 - acc: 0.3284\n",
            "Epoch 2/50\n",
            "27076/27076 [==============================] - 1s 31us/sample - loss: 1.5929 - acc: 0.4407\n",
            "Epoch 3/50\n",
            "27076/27076 [==============================] - 1s 32us/sample - loss: 1.4764 - acc: 0.4857\n",
            "Epoch 4/50\n",
            "27076/27076 [==============================] - 1s 31us/sample - loss: 1.3836 - acc: 0.5231\n",
            "Epoch 5/50\n",
            "27076/27076 [==============================] - 1s 32us/sample - loss: 1.3220 - acc: 0.5400\n",
            "Epoch 6/50\n",
            "27076/27076 [==============================] - 1s 31us/sample - loss: 1.2765 - acc: 0.5561\n",
            "Epoch 7/50\n",
            "27076/27076 [==============================] - 1s 31us/sample - loss: 1.2544 - acc: 0.5619\n",
            "Epoch 8/50\n",
            "27076/27076 [==============================] - 1s 31us/sample - loss: 1.2255 - acc: 0.5722\n",
            "Epoch 9/50\n",
            "27076/27076 [==============================] - 1s 32us/sample - loss: 1.2048 - acc: 0.5767\n",
            "Epoch 10/50\n",
            "27076/27076 [==============================] - 1s 30us/sample - loss: 1.1878 - acc: 0.5823\n",
            "Epoch 11/50\n",
            "27076/27076 [==============================] - 1s 31us/sample - loss: 1.1731 - acc: 0.5886\n",
            "Epoch 12/50\n",
            "27076/27076 [==============================] - 1s 32us/sample - loss: 1.1627 - acc: 0.5892\n",
            "Epoch 13/50\n",
            "27076/27076 [==============================] - 1s 33us/sample - loss: 1.1523 - acc: 0.5935\n",
            "Epoch 14/50\n",
            "27076/27076 [==============================] - 1s 31us/sample - loss: 1.1500 - acc: 0.5956\n",
            "Epoch 15/50\n",
            "27076/27076 [==============================] - 1s 32us/sample - loss: 1.1353 - acc: 0.5995\n",
            "Epoch 16/50\n",
            "27076/27076 [==============================] - 1s 32us/sample - loss: 1.1278 - acc: 0.6019\n",
            "Epoch 17/50\n",
            "27076/27076 [==============================] - 1s 32us/sample - loss: 1.1223 - acc: 0.6040\n",
            "Epoch 18/50\n",
            "27076/27076 [==============================] - 1s 32us/sample - loss: 1.1187 - acc: 0.6044\n",
            "Epoch 19/50\n",
            "27076/27076 [==============================] - 1s 32us/sample - loss: 1.1137 - acc: 0.6081\n",
            "Epoch 20/50\n",
            "27076/27076 [==============================] - 1s 32us/sample - loss: 1.1094 - acc: 0.6087\n",
            "Epoch 21/50\n",
            "27076/27076 [==============================] - 1s 31us/sample - loss: 1.1071 - acc: 0.6101\n",
            "Epoch 22/50\n",
            "27076/27076 [==============================] - 1s 31us/sample - loss: 1.0993 - acc: 0.6111\n",
            "Epoch 23/50\n",
            "27076/27076 [==============================] - 1s 31us/sample - loss: 1.0969 - acc: 0.6137\n",
            "Epoch 24/50\n",
            "27076/27076 [==============================] - 1s 31us/sample - loss: 1.0945 - acc: 0.6124\n",
            "Epoch 25/50\n",
            "27076/27076 [==============================] - 1s 32us/sample - loss: 1.0943 - acc: 0.6130\n",
            "Epoch 26/50\n",
            "27076/27076 [==============================] - 1s 31us/sample - loss: 1.0890 - acc: 0.6136\n",
            "Epoch 27/50\n",
            "27076/27076 [==============================] - 1s 32us/sample - loss: 1.0814 - acc: 0.6164\n",
            "Epoch 28/50\n",
            "27076/27076 [==============================] - 1s 32us/sample - loss: 1.0797 - acc: 0.6200\n",
            "Epoch 29/50\n",
            "27076/27076 [==============================] - 1s 30us/sample - loss: 1.0792 - acc: 0.6203\n",
            "Epoch 30/50\n",
            "27076/27076 [==============================] - 1s 32us/sample - loss: 1.0707 - acc: 0.6212\n",
            "Epoch 31/50\n",
            "27076/27076 [==============================] - 1s 31us/sample - loss: 1.0734 - acc: 0.6205\n",
            "Epoch 32/50\n",
            "27076/27076 [==============================] - 1s 32us/sample - loss: 1.0726 - acc: 0.6214\n",
            "Epoch 33/50\n",
            "27076/27076 [==============================] - 1s 31us/sample - loss: 1.0718 - acc: 0.6191\n",
            "Epoch 34/50\n",
            "27076/27076 [==============================] - 1s 32us/sample - loss: 1.0655 - acc: 0.6223\n",
            "Epoch 35/50\n",
            "27076/27076 [==============================] - 1s 32us/sample - loss: 1.0645 - acc: 0.6214\n",
            "Epoch 36/50\n",
            "27076/27076 [==============================] - 1s 31us/sample - loss: 1.0604 - acc: 0.6256\n",
            "Epoch 37/50\n",
            "27076/27076 [==============================] - 1s 32us/sample - loss: 1.0624 - acc: 0.6250\n",
            "Epoch 38/50\n",
            "27076/27076 [==============================] - 1s 32us/sample - loss: 1.0624 - acc: 0.6249\n",
            "Epoch 39/50\n",
            "27076/27076 [==============================] - 1s 33us/sample - loss: 1.0582 - acc: 0.6253\n",
            "Epoch 40/50\n",
            "27076/27076 [==============================] - 1s 32us/sample - loss: 1.0593 - acc: 0.6239\n",
            "Epoch 41/50\n",
            "27076/27076 [==============================] - 1s 33us/sample - loss: 1.0533 - acc: 0.6282\n",
            "Epoch 42/50\n",
            "27076/27076 [==============================] - 1s 33us/sample - loss: 1.0576 - acc: 0.6253\n",
            "Epoch 43/50\n",
            "27076/27076 [==============================] - 1s 32us/sample - loss: 1.0511 - acc: 0.6260\n",
            "Epoch 44/50\n",
            "27076/27076 [==============================] - 1s 31us/sample - loss: 1.0493 - acc: 0.6273\n",
            "Epoch 45/50\n",
            "27076/27076 [==============================] - 1s 32us/sample - loss: 1.0462 - acc: 0.6288\n",
            "Epoch 46/50\n",
            "27076/27076 [==============================] - 1s 31us/sample - loss: 1.0509 - acc: 0.6257\n",
            "Epoch 47/50\n",
            "27076/27076 [==============================] - 1s 32us/sample - loss: 1.0459 - acc: 0.6276\n",
            "Epoch 48/50\n",
            "27076/27076 [==============================] - 1s 33us/sample - loss: 1.0451 - acc: 0.6289\n",
            "Epoch 49/50\n",
            "27076/27076 [==============================] - 1s 33us/sample - loss: 1.0387 - acc: 0.6308\n",
            "Epoch 50/50\n",
            "27076/27076 [==============================] - 1s 31us/sample - loss: 1.0419 - acc: 0.6316\n",
            "train 데이터 정확도: 0.6393\n"
          ],
          "name": "stdout"
        }
      ]
    },
    {
      "cell_type": "code",
      "metadata": {
        "colab": {
          "base_uri": "https://localhost:8080/"
        },
        "id": "cXuNOHVpa_KX",
        "outputId": "421bcafb-315b-4950-92dd-f3e906eafa8b"
      },
      "source": [
        "print('train 데이터 정확도:', np.round(np.mean(scores_nn), 4))"
      ],
      "execution_count": null,
      "outputs": [
        {
          "output_type": "stream",
          "text": [
            "train 데이터 정확도: 0.6393\n"
          ],
          "name": "stdout"
        }
      ]
    },
    {
      "cell_type": "markdown",
      "metadata": {
        "id": "5sPMeWW8bKwO"
      },
      "source": [
        "교차검증으로 estimator 모델을 평가해보니, 신경망 모델로 돌린 train데이터의 정확도는 머신러닝 모델에 비해 거의 4% 정도 증가했다.\n"
      ]
    },
    {
      "cell_type": "code",
      "metadata": {
        "colab": {
          "base_uri": "https://localhost:8080/"
        },
        "id": "Wuf9by3_ZiRK",
        "outputId": "2b0b8b25-19ea-4a2f-dfeb-a87e37a4da59"
      },
      "source": [
        "# test데이터에 학습\n",
        "estimator.fit(X_train,y_train)\n",
        "y_preds = estimator.predict(X_test)"
      ],
      "execution_count": null,
      "outputs": [
        {
          "output_type": "stream",
          "text": [
            "Train on 33844 samples\n",
            "Epoch 1/50\n",
            "33844/33844 [==============================] - 1s 33us/sample - loss: 1.9250 - acc: 0.3310\n",
            "Epoch 2/50\n",
            "33844/33844 [==============================] - 1s 31us/sample - loss: 1.5427 - acc: 0.4609\n",
            "Epoch 3/50\n",
            "33844/33844 [==============================] - 1s 30us/sample - loss: 1.4122 - acc: 0.5090\n",
            "Epoch 4/50\n",
            "33844/33844 [==============================] - 1s 30us/sample - loss: 1.3242 - acc: 0.5389\n",
            "Epoch 5/50\n",
            "33844/33844 [==============================] - 1s 30us/sample - loss: 1.2750 - acc: 0.5553\n",
            "Epoch 6/50\n",
            "33844/33844 [==============================] - 1s 30us/sample - loss: 1.2438 - acc: 0.5680\n",
            "Epoch 7/50\n",
            "33844/33844 [==============================] - 1s 30us/sample - loss: 1.2178 - acc: 0.5734\n",
            "Epoch 8/50\n",
            "33844/33844 [==============================] - 1s 30us/sample - loss: 1.1909 - acc: 0.5823\n",
            "Epoch 9/50\n",
            "33844/33844 [==============================] - 1s 30us/sample - loss: 1.1746 - acc: 0.5894\n",
            "Epoch 10/50\n",
            "33844/33844 [==============================] - 1s 30us/sample - loss: 1.1616 - acc: 0.5929\n",
            "Epoch 11/50\n",
            "33844/33844 [==============================] - 1s 30us/sample - loss: 1.1526 - acc: 0.5948\n",
            "Epoch 12/50\n",
            "33844/33844 [==============================] - 1s 31us/sample - loss: 1.1378 - acc: 0.6015\n",
            "Epoch 13/50\n",
            "33844/33844 [==============================] - 1s 31us/sample - loss: 1.1324 - acc: 0.6017\n",
            "Epoch 14/50\n",
            "33844/33844 [==============================] - 1s 31us/sample - loss: 1.1315 - acc: 0.6017\n",
            "Epoch 15/50\n",
            "33844/33844 [==============================] - 1s 31us/sample - loss: 1.1207 - acc: 0.6070\n",
            "Epoch 16/50\n",
            "33844/33844 [==============================] - 1s 31us/sample - loss: 1.1173 - acc: 0.6079\n",
            "Epoch 17/50\n",
            "33844/33844 [==============================] - 1s 31us/sample - loss: 1.1101 - acc: 0.6114\n",
            "Epoch 18/50\n",
            "33844/33844 [==============================] - 1s 31us/sample - loss: 1.1091 - acc: 0.6089\n",
            "Epoch 19/50\n",
            "33844/33844 [==============================] - 1s 31us/sample - loss: 1.0999 - acc: 0.6121\n",
            "Epoch 20/50\n",
            "33844/33844 [==============================] - 1s 30us/sample - loss: 1.0928 - acc: 0.6135\n",
            "Epoch 21/50\n",
            "33844/33844 [==============================] - 1s 31us/sample - loss: 1.0916 - acc: 0.6151\n",
            "Epoch 22/50\n",
            "33844/33844 [==============================] - 1s 31us/sample - loss: 1.0938 - acc: 0.6127\n",
            "Epoch 23/50\n",
            "33844/33844 [==============================] - 1s 30us/sample - loss: 1.0878 - acc: 0.6159\n",
            "Epoch 24/50\n",
            "33844/33844 [==============================] - 1s 30us/sample - loss: 1.0795 - acc: 0.6160\n",
            "Epoch 25/50\n",
            "33844/33844 [==============================] - 1s 31us/sample - loss: 1.0817 - acc: 0.6170\n",
            "Epoch 26/50\n",
            "33844/33844 [==============================] - 1s 31us/sample - loss: 1.0758 - acc: 0.6197\n",
            "Epoch 27/50\n",
            "33844/33844 [==============================] - 1s 30us/sample - loss: 1.0739 - acc: 0.6202\n",
            "Epoch 28/50\n",
            "33844/33844 [==============================] - 1s 31us/sample - loss: 1.0715 - acc: 0.6207\n",
            "Epoch 29/50\n",
            "33844/33844 [==============================] - 1s 31us/sample - loss: 1.0741 - acc: 0.6214\n",
            "Epoch 30/50\n",
            "33844/33844 [==============================] - 1s 30us/sample - loss: 1.0610 - acc: 0.6230\n",
            "Epoch 31/50\n",
            "33844/33844 [==============================] - 1s 32us/sample - loss: 1.0651 - acc: 0.6246\n",
            "Epoch 32/50\n",
            "33844/33844 [==============================] - 1s 31us/sample - loss: 1.0630 - acc: 0.6257\n",
            "Epoch 33/50\n",
            "33844/33844 [==============================] - 1s 31us/sample - loss: 1.0637 - acc: 0.6238\n",
            "Epoch 34/50\n",
            "33844/33844 [==============================] - 1s 30us/sample - loss: 1.0549 - acc: 0.6273\n",
            "Epoch 35/50\n",
            "33844/33844 [==============================] - 1s 31us/sample - loss: 1.0577 - acc: 0.6233\n",
            "Epoch 36/50\n",
            "33844/33844 [==============================] - 1s 32us/sample - loss: 1.0565 - acc: 0.6234\n",
            "Epoch 37/50\n",
            "33844/33844 [==============================] - 1s 30us/sample - loss: 1.0548 - acc: 0.6264\n",
            "Epoch 38/50\n",
            "33844/33844 [==============================] - 1s 31us/sample - loss: 1.0550 - acc: 0.6268\n",
            "Epoch 39/50\n",
            "33844/33844 [==============================] - 1s 31us/sample - loss: 1.0502 - acc: 0.6284\n",
            "Epoch 40/50\n",
            "33844/33844 [==============================] - 1s 30us/sample - loss: 1.0472 - acc: 0.6285\n",
            "Epoch 41/50\n",
            "33844/33844 [==============================] - 1s 31us/sample - loss: 1.0456 - acc: 0.6281\n",
            "Epoch 42/50\n",
            "33844/33844 [==============================] - 1s 31us/sample - loss: 1.0430 - acc: 0.6293\n",
            "Epoch 43/50\n",
            "33844/33844 [==============================] - 1s 30us/sample - loss: 1.0473 - acc: 0.6297\n",
            "Epoch 44/50\n",
            "33844/33844 [==============================] - 1s 31us/sample - loss: 1.0433 - acc: 0.6300\n",
            "Epoch 45/50\n",
            "33844/33844 [==============================] - 1s 31us/sample - loss: 1.0409 - acc: 0.6279\n",
            "Epoch 46/50\n",
            "33844/33844 [==============================] - 1s 31us/sample - loss: 1.0406 - acc: 0.6299\n",
            "Epoch 47/50\n",
            "33844/33844 [==============================] - 1s 32us/sample - loss: 1.0387 - acc: 0.6305\n",
            "Epoch 48/50\n",
            "33844/33844 [==============================] - 1s 31us/sample - loss: 1.0334 - acc: 0.6318\n",
            "Epoch 49/50\n",
            "33844/33844 [==============================] - 1s 31us/sample - loss: 1.0390 - acc: 0.6318\n",
            "Epoch 50/50\n",
            "33844/33844 [==============================] - 1s 31us/sample - loss: 1.0346 - acc: 0.6297\n"
          ],
          "name": "stdout"
        },
        {
          "output_type": "stream",
          "text": [
            "/usr/local/lib/python3.6/dist-packages/tensorflow/python/keras/engine/sequential.py:450: UserWarning: `model.predict_classes()` is deprecated and will be removed after 2021-01-01. Please use instead:* `np.argmax(model.predict(x), axis=-1)`,   if your model does multi-class classification   (e.g. if it uses a `softmax` last-layer activation).* `(model.predict(x) > 0.5).astype(\"int32\")`,   if your model does binary classification   (e.g. if it uses a `sigmoid` last-layer activation).\n",
            "  warnings.warn('`model.predict_classes()` is deprecated and '\n",
            "/usr/local/lib/python3.6/dist-packages/tensorflow/python/keras/engine/training.py:2325: UserWarning: `Model.state_updates` will be removed in a future version. This property should not be used in TensorFlow 2.0, as `updates` are applied automatically.\n",
            "  warnings.warn('`Model.state_updates` will be removed in a future version. '\n"
          ],
          "name": "stderr"
        }
      ]
    },
    {
      "cell_type": "code",
      "metadata": {
        "colab": {
          "base_uri": "https://localhost:8080/"
        },
        "id": "VsGQQ14zcBm7",
        "outputId": "9df66623-1a65-4488-e52e-dbddb6697c87"
      },
      "source": [
        "print('test 데이터 정확도:', accuracy_score(y_test, y_preds))"
      ],
      "execution_count": null,
      "outputs": [
        {
          "output_type": "stream",
          "text": [
            "test 데이터 정확도: 0.6381042429972816\n"
          ],
          "name": "stdout"
        }
      ]
    },
    {
      "cell_type": "markdown",
      "metadata": {
        "id": "fPSWGWZQcH7O"
      },
      "source": [
        "머신러닝 모델에 비해 test데이터의 정확도가 0.5863->0.6381으로 약 5%정도 성능이 올랐다."
      ]
    },
    {
      "cell_type": "code",
      "metadata": {
        "colab": {
          "base_uri": "https://localhost:8080/"
        },
        "id": "gE03dFNDQc4t",
        "outputId": "9d95b934-6c59-4abb-ba50-56ff7413a29f"
      },
      "source": [
        "0.6381 - 0.5863"
      ],
      "execution_count": null,
      "outputs": [
        {
          "output_type": "execute_result",
          "data": {
            "text/plain": [
              "0.05179999999999996"
            ]
          },
          "metadata": {
            "tags": []
          },
          "execution_count": 40
        }
      ]
    },
    {
      "cell_type": "code",
      "metadata": {
        "colab": {
          "base_uri": "https://localhost:8080/"
        },
        "id": "-RrCipPddVUz",
        "outputId": "8b736cdf-7de5-419f-d460-d7de1c3c0be1"
      },
      "source": [
        "results = estimator.fit(X_train,y_train)"
      ],
      "execution_count": null,
      "outputs": [
        {
          "output_type": "stream",
          "text": [
            "Train on 33844 samples\n",
            "Epoch 1/30\n",
            "33844/33844 [==============================] - 1s 33us/sample - loss: 1.8511 - acc: 0.3581\n",
            "Epoch 2/30\n",
            "33844/33844 [==============================] - 1s 30us/sample - loss: 1.4894 - acc: 0.4849\n",
            "Epoch 3/30\n",
            "33844/33844 [==============================] - 1s 31us/sample - loss: 1.3660 - acc: 0.5269\n",
            "Epoch 4/30\n",
            "33844/33844 [==============================] - 1s 29us/sample - loss: 1.2972 - acc: 0.5499\n",
            "Epoch 5/30\n",
            "33844/33844 [==============================] - 1s 30us/sample - loss: 1.2484 - acc: 0.5651\n",
            "Epoch 6/30\n",
            "33844/33844 [==============================] - 1s 31us/sample - loss: 1.2178 - acc: 0.5738\n",
            "Epoch 7/30\n",
            "33844/33844 [==============================] - 1s 30us/sample - loss: 1.1937 - acc: 0.5824\n",
            "Epoch 8/30\n",
            "33844/33844 [==============================] - 1s 30us/sample - loss: 1.1782 - acc: 0.5870\n",
            "Epoch 9/30\n",
            "33844/33844 [==============================] - 1s 30us/sample - loss: 1.1607 - acc: 0.5906\n",
            "Epoch 10/30\n",
            "33844/33844 [==============================] - 1s 29us/sample - loss: 1.1505 - acc: 0.5956\n",
            "Epoch 11/30\n",
            "33844/33844 [==============================] - 1s 30us/sample - loss: 1.1363 - acc: 0.5982\n",
            "Epoch 12/30\n",
            "33844/33844 [==============================] - 1s 31us/sample - loss: 1.1286 - acc: 0.6036\n",
            "Epoch 13/30\n",
            "33844/33844 [==============================] - 1s 30us/sample - loss: 1.1213 - acc: 0.6045\n",
            "Epoch 14/30\n",
            "33844/33844 [==============================] - 1s 30us/sample - loss: 1.1144 - acc: 0.6078\n",
            "Epoch 15/30\n",
            "33844/33844 [==============================] - 1s 30us/sample - loss: 1.1061 - acc: 0.6130\n",
            "Epoch 16/30\n",
            "33844/33844 [==============================] - 1s 31us/sample - loss: 1.1016 - acc: 0.6118\n",
            "Epoch 17/30\n",
            "33844/33844 [==============================] - 1s 31us/sample - loss: 1.0983 - acc: 0.6118\n",
            "Epoch 18/30\n",
            "33844/33844 [==============================] - 1s 31us/sample - loss: 1.0976 - acc: 0.6130\n",
            "Epoch 19/30\n",
            "33844/33844 [==============================] - 1s 30us/sample - loss: 1.0910 - acc: 0.6128\n",
            "Epoch 20/30\n",
            "33844/33844 [==============================] - 1s 31us/sample - loss: 1.0896 - acc: 0.6146\n",
            "Epoch 21/30\n",
            "33844/33844 [==============================] - 1s 30us/sample - loss: 1.0841 - acc: 0.6163\n",
            "Epoch 22/30\n",
            "33844/33844 [==============================] - 1s 31us/sample - loss: 1.0833 - acc: 0.6152\n",
            "Epoch 23/30\n",
            "33844/33844 [==============================] - 1s 30us/sample - loss: 1.0791 - acc: 0.6194\n",
            "Epoch 24/30\n",
            "33844/33844 [==============================] - 1s 30us/sample - loss: 1.0774 - acc: 0.6182\n",
            "Epoch 25/30\n",
            "33844/33844 [==============================] - 1s 29us/sample - loss: 1.0734 - acc: 0.6189\n",
            "Epoch 26/30\n",
            "33844/33844 [==============================] - 1s 31us/sample - loss: 1.0709 - acc: 0.6227\n",
            "Epoch 27/30\n",
            "33844/33844 [==============================] - 1s 31us/sample - loss: 1.0703 - acc: 0.6221\n",
            "Epoch 28/30\n",
            "33844/33844 [==============================] - 1s 31us/sample - loss: 1.0632 - acc: 0.6228\n",
            "Epoch 29/30\n",
            "33844/33844 [==============================] - 1s 30us/sample - loss: 1.0617 - acc: 0.6220\n",
            "Epoch 30/30\n",
            "33844/33844 [==============================] - 1s 31us/sample - loss: 1.0581 - acc: 0.6266\n"
          ],
          "name": "stdout"
        }
      ]
    },
    {
      "cell_type": "markdown",
      "metadata": {
        "id": "YRXeAmMUe8_J"
      },
      "source": [
        "\n",
        "train데이터의 학습 모양을 시각화 해보면, accuracy값은 계속 증가하고 loss값은 감소하는 양상을 확인할 수 있다"
      ]
    },
    {
      "cell_type": "code",
      "metadata": {
        "id": "H_vWQIex8Dos",
        "colab": {
          "base_uri": "https://localhost:8080/",
          "height": 283
        },
        "outputId": "a1072f27-998c-4b48-d9d2-effba1476843"
      },
      "source": [
        "import matplotlib.pyplot as plt\n",
        "plt.plot(results.history['acc'])"
      ],
      "execution_count": null,
      "outputs": [
        {
          "output_type": "execute_result",
          "data": {
            "text/plain": [
              "[<matplotlib.lines.Line2D at 0x7f4f450a4710>]"
            ]
          },
          "metadata": {
            "tags": []
          },
          "execution_count": 86
        },
        {
          "output_type": "display_data",
          "data": {
            "image/png": "[encoded data removed]",
            "text/plain": [
              "<Figure size 432x288 with 1 Axes>"
            ]
          },
          "metadata": {
            "tags": [],
            "needs_background": "light"
          }
        }
      ]
    },
    {
      "cell_type": "code",
      "metadata": {
        "id": "igNj2v9Q8cO1",
        "colab": {
          "base_uri": "https://localhost:8080/",
          "height": 283
        },
        "outputId": "5285fb18-a069-4a2e-9dd0-6002cf1ae05b"
      },
      "source": [
        "plt.plot(results.history['loss'])"
      ],
      "execution_count": null,
      "outputs": [
        {
          "output_type": "execute_result",
          "data": {
            "text/plain": [
              "[<matplotlib.lines.Line2D at 0x7f4f42644940>]"
            ]
          },
          "metadata": {
            "tags": []
          },
          "execution_count": 87
        },
        {
          "output_type": "display_data",
          "data": {
            "image/png": "[encoded data removed]",
            "text/plain": [
              "<Figure size 432x288 with 1 Axes>"
            ]
          },
          "metadata": {
            "tags": [],
            "needs_background": "light"
          }
        }
      ]
    },
    {
      "cell_type": "code",
      "metadata": {
        "id": "3WukGotme12R"
      },
      "source": [
        ""
      ],
      "execution_count": null,
      "outputs": []
    }
  ]
}